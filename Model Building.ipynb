{
 "cells": [
  {
   "cell_type": "code",
   "execution_count": 2,
   "id": "de3fd9ba",
   "metadata": {},
   "outputs": [],
   "source": [
    "import matplotlib.pyplot as plt\n",
    "from lazypredict.Supervised import LazyClassifier, LazyRegressor\n",
    "from sklearn.model_selection import train_test_split\n",
    "import pandas as pd"
   ]
  },
  {
   "cell_type": "code",
   "execution_count": 3,
   "id": "cb19a853",
   "metadata": {},
   "outputs": [],
   "source": [
    "#load data\n",
    "\n",
    "train = pd.read_csv(\"C:/Users/Admin/OneDrive - National University of Singapore/NUS Related/Y3S1/BT4222/Project/cleaned_train.csv\", na_filter = False)\n",
    "test = pd.read_csv(\"C:/Users/Admin/OneDrive - National University of Singapore/NUS Related/Y3S1/BT4222/Project/cleaned_test.csv\", na_filter = False)\n"
   ]
  },
  {
   "cell_type": "code",
   "execution_count": 4,
   "id": "c7e6c60f",
   "metadata": {},
   "outputs": [
    {
     "name": "stdout",
     "output_type": "stream",
     "text": [
      "(64447,)\n",
      "(16113,)\n"
     ]
    }
   ],
   "source": [
    "y_train = train['price']\n",
    "y_test = test['price']\n",
    "print(y_train.shape)\n",
    "print(y_test.shape)"
   ]
  },
  {
   "cell_type": "code",
   "execution_count": 5,
   "id": "4dbbc408",
   "metadata": {
    "collapsed": true
   },
   "outputs": [
    {
     "name": "stdout",
     "output_type": "stream",
     "text": [
      "(64447, 38)\n",
      "   Unnamed: 0  index                                               name  \\\n",
      "0           0      0  Exclusive master bedroom w private bathroom n ...   \n",
      "1           1      1          Newly Renovated Room B in Central Oakland   \n",
      "2           2      2    Heart of San Diego in Old Town. Private Oasis 1   \n",
      "3           3      3   Staylicious Modern Apartment super central in OC   \n",
      "4           4      4  Luxury 3bd/2.5b spacious home, easy access to 101   \n",
      "\n",
      "  description_sentiment neighborhood_overview_sentiment host_response_time  \\\n",
      "0               Neutral               Slightly Positive                 NA   \n",
      "1               Neutral                              NA     within an hour   \n",
      "2     Slightly Positive                         Neutral     within an hour   \n",
      "3               Neutral               Slightly Positive     within an hour   \n",
      "4               Neutral                              NA     within an hour   \n",
      "\n",
      "  host_is_superhost  host_total_listings_count host_has_profile_pic  \\\n",
      "0                 f                       1.00                    t   \n",
      "1                 f                       4.00                    t   \n",
      "2                 t                      13.00                    t   \n",
      "3                 f                       9.00                    t   \n",
      "4                 t                       1.00                    t   \n",
      "\n",
      "  host_identity_verified  ... review_scores_rating  review_scores_accuracy  \\\n",
      "0                      t  ...           4.8 to 4.9              4.9 to 5.0   \n",
      "1                      t  ...                   NA                      NA   \n",
      "2                      t  ...           4.8 to 4.9              4.9 to 5.0   \n",
      "3                      t  ...           4.5 to 4.6              4.5 to 4.6   \n",
      "4                      t  ...           4.8 to 4.9              4.8 to 4.9   \n",
      "\n",
      "   review_scores_cleanliness review_scores_checkin  \\\n",
      "0                 4.2 to 4.3            4.9 to 5.0   \n",
      "1                         NA                    NA   \n",
      "2                 4.9 to 5.0            4.9 to 5.0   \n",
      "3                 4.6 to 4.7            4.7 to 4.8   \n",
      "4                 4.8 to 4.9            4.9 to 5.0   \n",
      "\n",
      "  review_scores_communication  review_scores_location  review_scores_value  \\\n",
      "0                  4.9 to 5.0              4.9 to 5.0           4.8 to 4.9   \n",
      "1                          NA                      NA                   NA   \n",
      "2                  4.9 to 5.0              4.9 to 5.0           4.8 to 4.9   \n",
      "3                  4.8 to 4.9              4.5 to 4.6           4.5 to 4.6   \n",
      "4                  4.9 to 5.0              4.5 to 4.6           4.8 to 4.9   \n",
      "\n",
      "   instant_bookable  bathroom_qty  bathroom_type  \n",
      "0                 f             1        private  \n",
      "1                 f           1.5         shared  \n",
      "2                 t             1           bath  \n",
      "3                 f             1           bath  \n",
      "4                 t           2.5          baths  \n",
      "\n",
      "[5 rows x 38 columns]\n"
     ]
    }
   ],
   "source": [
    "train.drop('price', axis=1, inplace=True)\n",
    "x_train = train\n",
    "print(x_train.shape)\n",
    "print(x_train.head())"
   ]
  },
  {
   "cell_type": "code",
   "execution_count": 6,
   "id": "2125a258",
   "metadata": {},
   "outputs": [
    {
     "name": "stdout",
     "output_type": "stream",
     "text": [
      "(16113, 38)\n"
     ]
    }
   ],
   "source": [
    "test.drop('price', axis=1, inplace=True)\n",
    "x_test = test\n",
    "print(x_test.shape)\n",
    "#print(x_test.head())"
   ]
  },
  {
   "cell_type": "code",
   "execution_count": 7,
   "id": "1f0da962",
   "metadata": {
    "collapsed": true
   },
   "outputs": [
    {
     "data": {
      "text/plain": [
       "Unnamed: 0                           int64\n",
       "index                                int64\n",
       "name                                object\n",
       "description_sentiment               object\n",
       "neighborhood_overview_sentiment     object\n",
       "host_response_time                  object\n",
       "host_is_superhost                   object\n",
       "host_total_listings_count          float64\n",
       "host_has_profile_pic                object\n",
       "host_identity_verified              object\n",
       "neighbourhood_cleansed              object\n",
       "latitude                           float64\n",
       "longitude                          float64\n",
       "property_type                       object\n",
       "room_type                           object\n",
       "accommodates                         int64\n",
       "bedrooms                           float64\n",
       "beds                               float64\n",
       "essentials                           int64\n",
       "luxury                               int64\n",
       "appliances                           int64\n",
       "entertainment                        int64\n",
       "security                             int64\n",
       "comfort                              int64\n",
       "furniture                            int64\n",
       "miscellaneous                        int64\n",
       "availability_30                      int64\n",
       "number_of_reviews                    int64\n",
       "review_scores_rating                object\n",
       "review_scores_accuracy              object\n",
       "review_scores_cleanliness           object\n",
       "review_scores_checkin               object\n",
       "review_scores_communication         object\n",
       "review_scores_location              object\n",
       "review_scores_value                 object\n",
       "instant_bookable                    object\n",
       "bathroom_qty                        object\n",
       "bathroom_type                       object\n",
       "dtype: object"
      ]
     },
     "execution_count": 7,
     "metadata": {},
     "output_type": "execute_result"
    }
   ],
   "source": [
    "x_train.dtypes"
   ]
  },
  {
   "cell_type": "code",
   "execution_count": 8,
   "id": "bfc86c65",
   "metadata": {
    "collapsed": true
   },
   "outputs": [
    {
     "data": {
      "text/plain": [
       "Unnamed: 0                            int64\n",
       "index                                 int64\n",
       "name                               category\n",
       "description_sentiment              category\n",
       "neighborhood_overview_sentiment    category\n",
       "host_response_time                 category\n",
       "host_is_superhost                  category\n",
       "host_total_listings_count           float64\n",
       "host_has_profile_pic               category\n",
       "host_identity_verified             category\n",
       "neighbourhood_cleansed             category\n",
       "latitude                            float64\n",
       "longitude                           float64\n",
       "property_type                      category\n",
       "room_type                          category\n",
       "accommodates                          int64\n",
       "bedrooms                            float64\n",
       "beds                                float64\n",
       "essentials                            int64\n",
       "luxury                                int64\n",
       "appliances                            int64\n",
       "entertainment                         int64\n",
       "security                              int64\n",
       "comfort                               int64\n",
       "furniture                             int64\n",
       "miscellaneous                         int64\n",
       "availability_30                       int64\n",
       "number_of_reviews                     int64\n",
       "review_scores_rating               category\n",
       "review_scores_accuracy             category\n",
       "review_scores_cleanliness          category\n",
       "review_scores_checkin              category\n",
       "review_scores_communication        category\n",
       "review_scores_location             category\n",
       "review_scores_value                category\n",
       "instant_bookable                   category\n",
       "bathroom_qty                       category\n",
       "bathroom_type                      category\n",
       "dtype: object"
      ]
     },
     "execution_count": 8,
     "metadata": {},
     "output_type": "execute_result"
    }
   ],
   "source": [
    "for t in x_train.columns:\n",
    "    if x_train[t].dtypes == \"object\":\n",
    "        x_train[t] = x_train[t].astype(\"category\")\n",
    "    \n",
    "x_train.dtypes"
   ]
  },
  {
   "cell_type": "code",
   "execution_count": 9,
   "id": "e32fc94c",
   "metadata": {},
   "outputs": [
    {
     "data": {
      "text/plain": [
       "dtype('float64')"
      ]
     },
     "execution_count": 9,
     "metadata": {},
     "output_type": "execute_result"
    }
   ],
   "source": [
    "y_train.dtypes"
   ]
  },
  {
   "cell_type": "code",
   "execution_count": 10,
   "id": "2afcc6a0",
   "metadata": {
    "collapsed": true
   },
   "outputs": [
    {
     "data": {
      "text/plain": [
       "'\\nfrom sklearn.svm import SVR\\nfrom sklearn.pipeline import Pipeline\\nfrom sklearn.impute import SimpleImputer\\nfrom sklearn.preprocessing import OneHotEncoder, StandardScaler\\nfrom sklearn.compose import ColumnTransformer, make_column_selector\\nfrom sklearn.preprocessing import LabelEncoder\\nfrom sklearn.preprocessing import OrdinalEncoder\\n\\nnumeric_transformer = Pipeline(steps = [(\"simple_imputer\", SimpleImputer(strategy=\\'mean\\')), \\n                                        (\"one_hot_encoder\", OneHotEncoder(handle_unknown = \"ignore\"))\\n                                       ])\\n\\ncategorical_transformer = Pipeline(steps = [(\"simple_imputer\", SimpleImputer(strategy=\\'most_frequent\\')), \\n                                        (\"one_hot_encoder\", OneHotEncoder(handle_unknown = \"ignore\"))\\n                                           ])\\n\\npreprocessor = ColumnTransformer(transformers = [(\"numeric_transformer\", numeric_transformer, make_column_selector(dtype_exclude = \\'category\\')),\\n                                                 (\\'categorical_transformer\\', categorical_transformer, make_column_selector(dtype_exclude = \\'category\\'))], remainder = \\'passthrough\\')\\n\\npipeline = Pipeline(steps = [\\n    (\"preprocessor\", preprocessor),\\n    (\"svr\", SVR(kernel=\\'linear\\'))\\n])\\n\\npipeline.fit(x_train_enc, y_train_enc)\\n'"
      ]
     },
     "execution_count": 10,
     "metadata": {},
     "output_type": "execute_result"
    }
   ],
   "source": [
    "from sklearn.ensemble import GradientBoostingRegressor\n",
    "from sklearn.pipeline import Pipeline\n",
    "from sklearn.impute import SimpleImputer\n",
    "from sklearn.preprocessing import OneHotEncoder, StandardScaler\n",
    "from sklearn.compose import ColumnTransformer, make_column_selector\n",
    "from sklearn.preprocessing import LabelEncoder\n",
    "from sklearn.preprocessing import OrdinalEncoder\n",
    "\n",
    "numeric_transformer = Pipeline(steps = [(\"simple_imputer\", SimpleImputer(strategy='mean')), \n",
    "                                        (\"one_hot_encoder\", OneHotEncoder(handle_unknown = \"ignore\"))\n",
    "                                       ])\n",
    "\n",
    "categorical_transformer = Pipeline(steps = [(\"simple_imputer\", SimpleImputer(strategy='most_frequent')), \n",
    "                                        (\"one_hot_encoder\", OneHotEncoder(handle_unknown = \"ignore\"))\n",
    "                                           ])\n",
    "\n",
    "preprocessor = ColumnTransformer(transformers = [(\"numeric_transformer\", numeric_transformer, make_column_selector(dtype_exclude = 'category')),\n",
    "                                                 ('categorical_transformer', categorical_transformer, make_column_selector(dtype_exclude = 'category'))], remainder = 'passthrough')\n",
    "\n",
    "pipeline = Pipeline(steps = [\n",
    "    (\"preprocessor\", preprocessor),\n",
    "    (\"gbr\", gbrt = GradientBoostingRegressor(max_depth=2, n_estimators=3, learning_rate=1.0, random_state=42))\n",
    "])\n",
    "\n",
    "pipeline.fit(x_train, y_train)\n"
   ]
  },
  {
   "cell_type": "code",
   "execution_count": 12,
   "id": "3c77aa4a",
   "metadata": {},
   "outputs": [
    {
     "name": "stdout",
     "output_type": "stream",
     "text": [
      "Epoch 1/10\n",
      "8056/8056 - 207s - loss: 56234.5039 - accuracy: 3.2585e-04 - 207s/epoch - 26ms/step\n",
      "Epoch 2/10\n",
      "8056/8056 - 210s - loss: 35715.6875 - accuracy: 3.2585e-04 - 210s/epoch - 26ms/step\n",
      "Epoch 3/10\n",
      "8056/8056 - 212s - loss: 30489.8438 - accuracy: 3.2585e-04 - 212s/epoch - 26ms/step\n",
      "Epoch 4/10\n",
      "8056/8056 - 207s - loss: 27228.0332 - accuracy: 2.9482e-04 - 207s/epoch - 26ms/step\n",
      "Epoch 5/10\n",
      "8056/8056 - 205s - loss: 24937.6602 - accuracy: 2.9482e-04 - 205s/epoch - 25ms/step\n",
      "Epoch 6/10\n",
      "8056/8056 - 206s - loss: 23151.9590 - accuracy: 2.7930e-04 - 206s/epoch - 26ms/step\n",
      "Epoch 7/10\n",
      "8056/8056 - 206s - loss: 21666.5273 - accuracy: 2.7930e-04 - 206s/epoch - 26ms/step\n",
      "Epoch 8/10\n",
      "8056/8056 - 207s - loss: 20387.1895 - accuracy: 2.4827e-04 - 207s/epoch - 26ms/step\n",
      "Epoch 9/10\n",
      "8056/8056 - 208s - loss: 19204.3750 - accuracy: 2.4827e-04 - 208s/epoch - 26ms/step\n",
      "Epoch 10/10\n",
      "8056/8056 - 208s - loss: 18099.6621 - accuracy: 2.4827e-04 - 208s/epoch - 26ms/step\n"
     ]
    },
    {
     "data": {
      "text/plain": [
       "<keras.callbacks.History at 0x1fa6fb4cbb0>"
      ]
     },
     "execution_count": 12,
     "metadata": {},
     "output_type": "execute_result"
    }
   ],
   "source": [
    "from sklearn.preprocessing import LabelEncoder\n",
    "from sklearn.preprocessing import OneHotEncoder\n",
    "from keras.models import Sequential\n",
    "from keras.layers import Dense\n",
    " \n",
    "\n",
    "ohe = OneHotEncoder()\n",
    "ohe.fit(x_train)\n",
    "x_train_enc = ohe.transform(x_train)\n",
    "\n",
    "# prepare target\n",
    "le = LabelEncoder()\n",
    "le.fit(y_train)\n",
    "y_train_enc = le.transform(y_train)\n",
    "\n",
    "sc = StandardScaler()\n",
    "X_train_std = sc.fit_transform(X_train)\n",
    "X_test_std = sc.transform(X_test)\n",
    "\n",
    "model = Sequential()\n",
    "model.add(Dense(10, input_dim=x_train_enc.shape[1], activation='relu', kernel_initializer='he_normal'))\n",
    "model.add(Dense(1, activation='linear'))\n",
    "# compile the keras model\n",
    "model.compile(loss='mean_squared_error', optimizer='adam', metrics=['accuracy'])\n",
    "# fit the keras model on the dataset\n",
    "model.fit(x_train_enc, y_train_enc, epochs=10, batch_size=8, verbose=2)\n",
    "# evaluate the keras model\n",
    "#_, accuracy = model.evaluate(X_test_enc, y_test_enc, verbose=0)\n",
    "#print('Accuracy: %.2f' % (accuracy*100))"
   ]
  },
  {
   "cell_type": "code",
   "execution_count": 13,
   "id": "c506ede9",
   "metadata": {},
   "outputs": [
    {
     "data": {
      "text/plain": [
       "<1x293264 sparse matrix of type '<class 'numpy.float64'>'\n",
       "\twith 286780 stored elements in Compressed Sparse Row format>"
      ]
     },
     "execution_count": 13,
     "metadata": {},
     "output_type": "execute_result"
    }
   ],
   "source": [
    "from sklearn.svm import SVR\n",
    "\n",
    "clf = SVR(kernel='linear')\n",
    "clf.fit(x_train_enc, y_train_enc)\n",
    "clf.coef_"
   ]
  },
  {
   "cell_type": "code",
   "execution_count": 25,
   "id": "4805bc72",
   "metadata": {},
   "outputs": [
    {
     "ename": "MemoryError",
     "evalue": "Unable to allocate 141. GiB for an array with shape (64447, 293264) and data type float64",
     "output_type": "error",
     "traceback": [
      "\u001b[1;31m---------------------------------------------------------------------------\u001b[0m",
      "\u001b[1;31mMemoryError\u001b[0m                               Traceback (most recent call last)",
      "\u001b[1;32m<ipython-input-25-97d46b8e0d01>\u001b[0m in \u001b[0;36m<module>\u001b[1;34m\u001b[0m\n\u001b[0;32m      1\u001b[0m \u001b[1;32mfrom\u001b[0m \u001b[0msklearn\u001b[0m\u001b[1;33m.\u001b[0m\u001b[0minspection\u001b[0m \u001b[1;32mimport\u001b[0m \u001b[0mpermutation_importance\u001b[0m\u001b[1;33m\u001b[0m\u001b[1;33m\u001b[0m\u001b[0m\n\u001b[1;32m----> 2\u001b[1;33m \u001b[0mresults\u001b[0m \u001b[1;33m=\u001b[0m \u001b[0mpermutation_importance\u001b[0m\u001b[1;33m(\u001b[0m\u001b[0mclf\u001b[0m\u001b[1;33m,\u001b[0m \u001b[0mx_train_enc\u001b[0m\u001b[1;33m.\u001b[0m\u001b[0mtoarray\u001b[0m\u001b[1;33m(\u001b[0m\u001b[1;33m)\u001b[0m\u001b[1;33m,\u001b[0m \u001b[0my_train_enc\u001b[0m\u001b[1;33m.\u001b[0m\u001b[0mtoarray\u001b[0m\u001b[1;33m(\u001b[0m\u001b[1;33m)\u001b[0m\u001b[1;33m,\u001b[0m \u001b[0mscoring\u001b[0m\u001b[1;33m=\u001b[0m\u001b[1;34m'neg_mean_squared_error'\u001b[0m\u001b[1;33m)\u001b[0m\u001b[1;33m\u001b[0m\u001b[1;33m\u001b[0m\u001b[0m\n\u001b[0m\u001b[0;32m      3\u001b[0m \u001b[1;31m# get importance\u001b[0m\u001b[1;33m\u001b[0m\u001b[1;33m\u001b[0m\u001b[1;33m\u001b[0m\u001b[0m\n\u001b[0;32m      4\u001b[0m \u001b[0mimportance\u001b[0m \u001b[1;33m=\u001b[0m \u001b[0mresults\u001b[0m\u001b[1;33m.\u001b[0m\u001b[0mimportances_mean\u001b[0m\u001b[1;33m\u001b[0m\u001b[1;33m\u001b[0m\u001b[0m\n\u001b[0;32m      5\u001b[0m \u001b[1;31m# summarize feature importance\u001b[0m\u001b[1;33m\u001b[0m\u001b[1;33m\u001b[0m\u001b[1;33m\u001b[0m\u001b[0m\n",
      "\u001b[1;32m~\\anaconda3\\lib\\site-packages\\scipy\\sparse\\compressed.py\u001b[0m in \u001b[0;36mtoarray\u001b[1;34m(self, order, out)\u001b[0m\n\u001b[0;32m   1029\u001b[0m         \u001b[1;32mif\u001b[0m \u001b[0mout\u001b[0m \u001b[1;32mis\u001b[0m \u001b[1;32mNone\u001b[0m \u001b[1;32mand\u001b[0m \u001b[0morder\u001b[0m \u001b[1;32mis\u001b[0m \u001b[1;32mNone\u001b[0m\u001b[1;33m:\u001b[0m\u001b[1;33m\u001b[0m\u001b[1;33m\u001b[0m\u001b[0m\n\u001b[0;32m   1030\u001b[0m             \u001b[0morder\u001b[0m \u001b[1;33m=\u001b[0m \u001b[0mself\u001b[0m\u001b[1;33m.\u001b[0m\u001b[0m_swap\u001b[0m\u001b[1;33m(\u001b[0m\u001b[1;34m'cf'\u001b[0m\u001b[1;33m)\u001b[0m\u001b[1;33m[\u001b[0m\u001b[1;36m0\u001b[0m\u001b[1;33m]\u001b[0m\u001b[1;33m\u001b[0m\u001b[1;33m\u001b[0m\u001b[0m\n\u001b[1;32m-> 1031\u001b[1;33m         \u001b[0mout\u001b[0m \u001b[1;33m=\u001b[0m \u001b[0mself\u001b[0m\u001b[1;33m.\u001b[0m\u001b[0m_process_toarray_args\u001b[0m\u001b[1;33m(\u001b[0m\u001b[0morder\u001b[0m\u001b[1;33m,\u001b[0m \u001b[0mout\u001b[0m\u001b[1;33m)\u001b[0m\u001b[1;33m\u001b[0m\u001b[1;33m\u001b[0m\u001b[0m\n\u001b[0m\u001b[0;32m   1032\u001b[0m         \u001b[1;32mif\u001b[0m \u001b[1;32mnot\u001b[0m \u001b[1;33m(\u001b[0m\u001b[0mout\u001b[0m\u001b[1;33m.\u001b[0m\u001b[0mflags\u001b[0m\u001b[1;33m.\u001b[0m\u001b[0mc_contiguous\u001b[0m \u001b[1;32mor\u001b[0m \u001b[0mout\u001b[0m\u001b[1;33m.\u001b[0m\u001b[0mflags\u001b[0m\u001b[1;33m.\u001b[0m\u001b[0mf_contiguous\u001b[0m\u001b[1;33m)\u001b[0m\u001b[1;33m:\u001b[0m\u001b[1;33m\u001b[0m\u001b[1;33m\u001b[0m\u001b[0m\n\u001b[0;32m   1033\u001b[0m             \u001b[1;32mraise\u001b[0m \u001b[0mValueError\u001b[0m\u001b[1;33m(\u001b[0m\u001b[1;34m'Output array must be C or F contiguous'\u001b[0m\u001b[1;33m)\u001b[0m\u001b[1;33m\u001b[0m\u001b[1;33m\u001b[0m\u001b[0m\n",
      "\u001b[1;32m~\\anaconda3\\lib\\site-packages\\scipy\\sparse\\base.py\u001b[0m in \u001b[0;36m_process_toarray_args\u001b[1;34m(self, order, out)\u001b[0m\n\u001b[0;32m   1200\u001b[0m             \u001b[1;32mreturn\u001b[0m \u001b[0mout\u001b[0m\u001b[1;33m\u001b[0m\u001b[1;33m\u001b[0m\u001b[0m\n\u001b[0;32m   1201\u001b[0m         \u001b[1;32melse\u001b[0m\u001b[1;33m:\u001b[0m\u001b[1;33m\u001b[0m\u001b[1;33m\u001b[0m\u001b[0m\n\u001b[1;32m-> 1202\u001b[1;33m             \u001b[1;32mreturn\u001b[0m \u001b[0mnp\u001b[0m\u001b[1;33m.\u001b[0m\u001b[0mzeros\u001b[0m\u001b[1;33m(\u001b[0m\u001b[0mself\u001b[0m\u001b[1;33m.\u001b[0m\u001b[0mshape\u001b[0m\u001b[1;33m,\u001b[0m \u001b[0mdtype\u001b[0m\u001b[1;33m=\u001b[0m\u001b[0mself\u001b[0m\u001b[1;33m.\u001b[0m\u001b[0mdtype\u001b[0m\u001b[1;33m,\u001b[0m \u001b[0morder\u001b[0m\u001b[1;33m=\u001b[0m\u001b[0morder\u001b[0m\u001b[1;33m)\u001b[0m\u001b[1;33m\u001b[0m\u001b[1;33m\u001b[0m\u001b[0m\n\u001b[0m\u001b[0;32m   1203\u001b[0m \u001b[1;33m\u001b[0m\u001b[0m\n\u001b[0;32m   1204\u001b[0m \u001b[1;33m\u001b[0m\u001b[0m\n",
      "\u001b[1;31mMemoryError\u001b[0m: Unable to allocate 141. GiB for an array with shape (64447, 293264) and data type float64"
     ]
    }
   ],
   "source": [
    "from sklearn.inspection import permutation_importance\n",
    "results = permutation_importance(clf, x_train_enc.toarray(), y_train_enc.toarray(), scoring='neg_mean_squared_error')\n",
    "# get importance\n",
    "importance = results.importances_mean\n",
    "# summarize feature importance\n",
    "for i,v in enumerate(importance):\n",
    "    print('Feature: %0d, Score: %.5f' % (i,v))\n",
    "# plot feature importance\n",
    "#pyplot.bar([x for x in range(len(importance))], importance)\n",
    "#pyplot.show()"
   ]
  },
  {
   "cell_type": "code",
   "execution_count": 27,
   "id": "2f3cc58c",
   "metadata": {},
   "outputs": [
    {
     "data": {
      "text/plain": [
       "GradientBoostingRegressor(learning_rate=1.0, max_depth=2, n_estimators=3,\n",
       "                          random_state=42)"
      ]
     },
     "execution_count": 27,
     "metadata": {},
     "output_type": "execute_result"
    }
   ],
   "source": [
    "from sklearn.ensemble import GradientBoostingRegressor\n",
    "import numpy as np\n",
    "import matplotlib.pyplot as plt\n",
    "from sklearn.inspection import permutation_importance\n",
    "\n",
    "gbrt = GradientBoostingRegressor(max_depth=2, n_estimators=3, learning_rate=1.0, random_state=42)\n",
    "gbrt.fit(x_train_enc, y_train_enc)\n",
    "\n",
    "feature_importance = gbrt.feature_importances_\n",
    "sorted_idx = np.argsort(feature_importance)\n",
    "#sorted_idx\n",
    "sorted_idx.shape"
   ]
  },
  {
   "cell_type": "code",
   "execution_count": 33,
   "id": "761a1ef6",
   "metadata": {},
   "outputs": [
    {
     "data": {
      "text/plain": [
       "(293264,)"
      ]
     },
     "execution_count": 33,
     "metadata": {},
     "output_type": "execute_result"
    }
   ],
   "source": []
  },
  {
   "cell_type": "code",
   "execution_count": 24,
   "id": "e7b44e77",
   "metadata": {},
   "outputs": [
    {
     "name": "stderr",
     "output_type": "stream",
     "text": [
      "100%|██████████████████████████████████████████████████████████████████████████████████| 41/41 [03:48<00:00,  5.57s/it]\n"
     ]
    }
   ],
   "source": [
    "# fit all models\n",
    "#clf = LazyRegressor(predictions=True)\n",
    "#models, predictions = clf.fit(x_train[:10000], x_test[:2000], y_train[:10000], y_test[:2000])"
   ]
  },
  {
   "cell_type": "code",
   "execution_count": 25,
   "id": "cbbf2ce5",
   "metadata": {},
   "outputs": [
    {
     "data": {
      "text/html": [
       "<div>\n",
       "<style scoped>\n",
       "    .dataframe tbody tr th:only-of-type {\n",
       "        vertical-align: middle;\n",
       "    }\n",
       "\n",
       "    .dataframe tbody tr th {\n",
       "        vertical-align: top;\n",
       "    }\n",
       "\n",
       "    .dataframe thead th {\n",
       "        text-align: right;\n",
       "    }\n",
       "</style>\n",
       "<table border=\"1\" class=\"dataframe\">\n",
       "  <thead>\n",
       "    <tr style=\"text-align: right;\">\n",
       "      <th></th>\n",
       "      <th>Adjusted R-Squared</th>\n",
       "      <th>R-Squared</th>\n",
       "      <th>RMSE</th>\n",
       "      <th>Time Taken</th>\n",
       "    </tr>\n",
       "    <tr>\n",
       "      <th>Model</th>\n",
       "      <th></th>\n",
       "      <th></th>\n",
       "      <th></th>\n",
       "      <th></th>\n",
       "    </tr>\n",
       "  </thead>\n",
       "  <tbody>\n",
       "  </tbody>\n",
       "</table>\n",
       "</div>"
      ],
      "text/plain": [
       "Empty DataFrame\n",
       "Columns: [Adjusted R-Squared, R-Squared, RMSE, Time Taken]\n",
       "Index: []"
      ]
     },
     "execution_count": 25,
     "metadata": {},
     "output_type": "execute_result"
    }
   ],
   "source": [
    "models"
   ]
  },
  {
   "cell_type": "code",
   "execution_count": 9,
   "id": "220d124c",
   "metadata": {
    "collapsed": true
   },
   "outputs": [
    {
     "name": "stdout",
     "output_type": "stream",
     "text": [
      "0        45.00\n",
      "1        59.00\n",
      "2       185.00\n",
      "3       105.00\n",
      "4       255.00\n",
      "         ...  \n",
      "64442   171.00\n",
      "64443    85.00\n",
      "64444    60.00\n",
      "64445   100.00\n",
      "64446   328.00\n",
      "Name: price, Length: 64447, dtype: float64\n"
     ]
    }
   ],
   "source": [
    "print(y_train)"
   ]
  }
 ],
 "metadata": {
  "kernelspec": {
   "display_name": "Python 3",
   "language": "python",
   "name": "python3"
  },
  "language_info": {
   "codemirror_mode": {
    "name": "ipython",
    "version": 3
   },
   "file_extension": ".py",
   "mimetype": "text/x-python",
   "name": "python",
   "nbconvert_exporter": "python",
   "pygments_lexer": "ipython3",
   "version": "3.8.8"
  }
 },
 "nbformat": 4,
 "nbformat_minor": 5
}
