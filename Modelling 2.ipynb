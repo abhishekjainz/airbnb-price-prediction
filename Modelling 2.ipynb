{
 "cells": [
  {
   "cell_type": "code",
   "execution_count": 1,
   "id": "039e9a15",
   "metadata": {},
   "outputs": [],
   "source": [
    "#library\n",
    "import matplotlib.pyplot as plt\n",
    "import pandas as pd\n",
    "from sklearn.ensemble import GradientBoostingRegressor\n",
    "import numpy as np\n",
    "import matplotlib.pyplot as plt\n",
    "from sklearn.inspection import permutation_importance"
   ]
  },
  {
   "cell_type": "code",
   "execution_count": 3,
   "id": "979d4bb9",
   "metadata": {},
   "outputs": [],
   "source": [
    "#data\n",
    "\n",
    "train = pd.read_csv(\"C:/Users/Admin/OneDrive - National University of Singapore/NUS Related/Y3S1/BT4222/Project/cleaned_train.csv\", na_filter = False)\n",
    "test = pd.read_csv(\"C:/Users/Admin/OneDrive - National University of Singapore/NUS Related/Y3S1/BT4222/Project/cleaned_test.csv\", na_filter = False)\n",
    "\n",
    "y_train = train['price']\n",
    "y_test = test['price']"
   ]
  },
  {
   "cell_type": "code",
   "execution_count": 4,
   "id": "52428e2e",
   "metadata": {},
   "outputs": [],
   "source": [
    "train.drop(['price', 'index', 'name', 'neighbourhood_cleansed', 'property_type'], axis=1, inplace=True)\n",
    "test.drop(['price', 'index', 'name', 'neighbourhood_cleansed', 'property_type'], axis=1, inplace=True)"
   ]
  },
  {
   "cell_type": "code",
   "execution_count": 11,
   "id": "365a393b",
   "metadata": {
    "scrolled": true
   },
   "outputs": [
    {
     "data": {
      "text/plain": [
       "Unnamed: 0                            int64\n",
       "description_sentiment              category\n",
       "neighborhood_overview_sentiment    category\n",
       "host_response_time                 category\n",
       "host_is_superhost                  category\n",
       "host_total_listings_count           float64\n",
       "host_has_profile_pic               category\n",
       "host_identity_verified             category\n",
       "latitude                            float64\n",
       "longitude                           float64\n",
       "room_type                          category\n",
       "accommodates                          int64\n",
       "bedrooms                            float64\n",
       "beds                                float64\n",
       "essentials                            int64\n",
       "luxury                                int64\n",
       "appliances                            int64\n",
       "entertainment                         int64\n",
       "security                              int64\n",
       "comfort                               int64\n",
       "furniture                             int64\n",
       "miscellaneous                         int64\n",
       "availability_30                       int64\n",
       "number_of_reviews                     int64\n",
       "review_scores_rating               category\n",
       "review_scores_accuracy             category\n",
       "review_scores_cleanliness          category\n",
       "review_scores_checkin              category\n",
       "review_scores_communication        category\n",
       "review_scores_location             category\n",
       "review_scores_value                category\n",
       "instant_bookable                   category\n",
       "bathroom_qty                       category\n",
       "bathroom_type                      category\n",
       "dtype: object"
      ]
     },
     "execution_count": 11,
     "metadata": {},
     "output_type": "execute_result"
    }
   ],
   "source": [
    "train.columns\n",
    "x_train = train\n",
    "x_test = test\n",
    "\n",
    "for t in x_train.columns:\n",
    "    if x_train[t].dtypes == \"object\":\n",
    "        x_train[t] = x_train[t].astype(\"category\")\n",
    "    \n",
    "x_train.dtypes"
   ]
  },
  {
   "cell_type": "code",
   "execution_count": 17,
   "id": "a3d092ab",
   "metadata": {},
   "outputs": [],
   "source": [
    "from sklearn.ensemble import GradientBoostingRegressor\n",
    "from sklearn.pipeline import Pipeline\n",
    "from sklearn.impute import SimpleImputer\n",
    "from sklearn.preprocessing import OneHotEncoder, StandardScaler\n",
    "from sklearn.compose import ColumnTransformer, make_column_selector\n",
    "from sklearn.preprocessing import LabelEncoder\n",
    "from sklearn.preprocessing import OrdinalEncoder\n",
    " \n",
    "ohe = OneHotEncoder()\n",
    "ohe.fit(x_train)\n",
    "x_train_enc = ohe.transform(x_train)\n",
    "\n",
    "# prepare target\n",
    "le = LabelEncoder()\n",
    "le.fit(y_train)\n",
    "y_train_enc = le.transform(y_train)\n",
    "\n",
    "\n",
    "numeric_transformer = Pipeline(steps = [(\"simple_imputer\", SimpleImputer(strategy='mean')), \n",
    "                                        (\"one_hot_encoder\", OneHotEncoder(handle_unknown = \"ignore\"))\n",
    "                                       ])\n",
    "\n",
    "categorical_transformer = Pipeline(steps = [(\"simple_imputer\", SimpleImputer(strategy='most_frequent')), \n",
    "                                        (\"one_hot_encoder\", OneHotEncoder(handle_unknown = \"ignore\"))\n",
    "                                           ])\n",
    "\n",
    "preprocessor = ColumnTransformer(transformers = [(\"numeric_transformer\", numeric_transformer, make_column_selector(dtype_exclude = 'category')),\n",
    "                                                 ('categorical_transformer', categorical_transformer, make_column_selector(dtype_exclude = 'category'))], remainder = 'passthrough')\n",
    "\n",
    "pipeline = Pipeline(steps = [\n",
    "    (\"preprocessor\", preprocessor),\n",
    "    (\"gbr\", GradientBoostingRegressor(max_depth=2, n_estimators=3, learning_rate=1.0, random_state=42))\n",
    "])\n",
    "\n",
    "#pipeline.fit(x_train_enc, y_train_enc)"
   ]
  },
  {
   "cell_type": "code",
   "execution_count": 18,
   "id": "c501734a",
   "metadata": {},
   "outputs": [
    {
     "data": {
      "text/plain": [
       "GradientBoostingRegressor(learning_rate=1.0, max_depth=2, n_estimators=3,\n",
       "                          random_state=42)"
      ]
     },
     "execution_count": 18,
     "metadata": {},
     "output_type": "execute_result"
    }
   ],
   "source": [
    "from sklearn.metrics import mean_squared_error\n",
    "from sklearn.preprocessing import StandardScaler\n",
    "\n",
    "gbr = GradientBoostingRegressor(max_depth=2, n_estimators=3, learning_rate=1.0, random_state=42)\n",
    "\n",
    "gbr.fit(x_train_enc, y_train_enc)"
   ]
  },
  {
   "cell_type": "code",
   "execution_count": 19,
   "id": "d2aa4d2e",
   "metadata": {},
   "outputs": [
    {
     "data": {
      "text/plain": [
       "(166402,)"
      ]
     },
     "execution_count": 19,
     "metadata": {},
     "output_type": "execute_result"
    }
   ],
   "source": [
    "gbr.feature_importances_.shape"
   ]
  },
  {
   "cell_type": "code",
   "execution_count": 20,
   "id": "febbea18",
   "metadata": {},
   "outputs": [
    {
     "data": {
      "text/plain": [
       "Index(['Unnamed: 0', 'description_sentiment',\n",
       "       'neighborhood_overview_sentiment', 'host_response_time',\n",
       "       'host_is_superhost', 'host_total_listings_count',\n",
       "       'host_has_profile_pic', 'host_identity_verified', 'latitude',\n",
       "       'longitude', 'room_type', 'accommodates', 'bedrooms', 'beds',\n",
       "       'essentials', 'luxury', 'appliances', 'entertainment', 'security',\n",
       "       'comfort', 'furniture', 'miscellaneous', 'availability_30',\n",
       "       'number_of_reviews', 'review_scores_rating', 'review_scores_accuracy',\n",
       "       'review_scores_cleanliness', 'review_scores_checkin',\n",
       "       'review_scores_communication', 'review_scores_location',\n",
       "       'review_scores_value', 'instant_bookable', 'bathroom_qty',\n",
       "       'bathroom_type'],\n",
       "      dtype='object')"
      ]
     },
     "execution_count": 20,
     "metadata": {},
     "output_type": "execute_result"
    }
   ],
   "source": [
    "x_train.columns"
   ]
  }
 ],
 "metadata": {
  "kernelspec": {
   "display_name": "Python 3",
   "language": "python",
   "name": "python3"
  },
  "language_info": {
   "codemirror_mode": {
    "name": "ipython",
    "version": 3
   },
   "file_extension": ".py",
   "mimetype": "text/x-python",
   "name": "python",
   "nbconvert_exporter": "python",
   "pygments_lexer": "ipython3",
   "version": "3.8.8"
  }
 },
 "nbformat": 4,
 "nbformat_minor": 5
}
