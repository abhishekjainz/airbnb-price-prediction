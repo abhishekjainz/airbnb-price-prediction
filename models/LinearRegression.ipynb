{
 "cells": [
  {
   "cell_type": "markdown",
   "metadata": {},
   "source": [
    "### Import Packages"
   ]
  },
  {
   "cell_type": "code",
   "execution_count": 1,
   "metadata": {},
   "outputs": [],
   "source": [
    "import warnings\n",
    "warnings.filterwarnings('ignore')\n",
    "\n",
    "import numpy as np\n",
    "import pandas as pd\n",
    "import matplotlib.pyplot as plt\n",
    "import seaborn as sns\n",
    "import statsmodels.api as sm\n",
    "\n",
    "%matplotlib inline"
   ]
  },
  {
   "cell_type": "markdown",
   "metadata": {},
   "source": [
    "### Read Data"
   ]
  },
  {
   "cell_type": "code",
   "execution_count": 2,
   "metadata": {},
   "outputs": [],
   "source": [
    "train = pd.read_csv('./Data/train.csv',na_filter=False)\n",
    "val = pd.read_csv('./Data/val.csv',na_filter=False)\n",
    "test = pd.read_csv('./Data/test.csv',na_filter=False)"
   ]
  },
  {
   "cell_type": "code",
   "execution_count": 3,
   "metadata": {},
   "outputs": [
    {
     "name": "stdout",
     "output_type": "stream",
     "text": [
      "<class 'pandas.core.frame.DataFrame'>\n",
      "RangeIndex: 43725 entries, 0 to 43724\n",
      "Data columns (total 36 columns):\n",
      " #   Column                           Non-Null Count  Dtype  \n",
      "---  ------                           --------------  -----  \n",
      " 0   Unnamed: 0                       43725 non-null  int64  \n",
      " 1   host_response_time               43725 non-null  object \n",
      " 2   host_response_rate               43725 non-null  object \n",
      " 3   host_acceptance_rate             43725 non-null  object \n",
      " 4   host_is_superhost                43725 non-null  int64  \n",
      " 5   host_identity_verified           43725 non-null  int64  \n",
      " 6   room_type                        43725 non-null  object \n",
      " 7   accommodates                     43725 non-null  int64  \n",
      " 8   bedrooms                         43725 non-null  float64\n",
      " 9   beds                             43725 non-null  float64\n",
      " 10  price                            43725 non-null  float64\n",
      " 11  minimum_nights                   43725 non-null  int64  \n",
      " 12  maximum_nights                   43725 non-null  int64  \n",
      " 13  availability_30                  43725 non-null  int64  \n",
      " 14  number_of_reviews                43725 non-null  int64  \n",
      " 15  review_scores_rating             43725 non-null  object \n",
      " 16  instant_bookable                 43725 non-null  int64  \n",
      " 17  reviews_per_month                43725 non-null  float64\n",
      " 18  state                            43725 non-null  object \n",
      " 19  num_mall_within_1000             43725 non-null  int64  \n",
      " 20  num_attraction_within_1000       43725 non-null  int64  \n",
      " 21  sentiment_median_score           43725 non-null  float64\n",
      " 22  has_license                      43725 non-null  int64  \n",
      " 23  description_sentiment            43725 non-null  object \n",
      " 24  neighborhood_overview_sentiment  43725 non-null  object \n",
      " 25  essentials                       43725 non-null  int64  \n",
      " 26  luxury                           43725 non-null  int64  \n",
      " 27  appliances                       43725 non-null  int64  \n",
      " 28  comfort                          43725 non-null  int64  \n",
      " 29  entertainment                    43725 non-null  int64  \n",
      " 30  security                         43725 non-null  int64  \n",
      " 31  furniture                        43725 non-null  int64  \n",
      " 32  miscellaneous                    43725 non-null  int64  \n",
      " 33  host_gender                      43725 non-null  object \n",
      " 34  bathrooms                        43725 non-null  float64\n",
      " 35  bathroom_type                    43725 non-null  object \n",
      "dtypes: float64(6), int64(20), object(10)\n",
      "memory usage: 12.0+ MB\n"
     ]
    }
   ],
   "source": [
    "train.info()"
   ]
  },
  {
   "cell_type": "code",
   "execution_count": 4,
   "metadata": {},
   "outputs": [],
   "source": [
    "train.drop(['Unnamed: 0'], axis=1, inplace=True)"
   ]
  },
  {
   "cell_type": "markdown",
   "metadata": {},
   "source": [
    "#### Split columns into their different types"
   ]
  },
  {
   "cell_type": "code",
   "execution_count": 5,
   "metadata": {},
   "outputs": [
    {
     "name": "stdout",
     "output_type": "stream",
     "text": [
      "numeric_columns: ['accommodates', 'bedrooms', 'beds', 'price', 'minimum_nights', 'maximum_nights', 'availability_30', 'number_of_reviews', 'reviews_per_month', 'num_mall_within_1000', 'num_attraction_within_1000', 'sentiment_median_score', 'essentials', 'luxury', 'appliances', 'comfort', 'entertainment', 'security', 'furniture', 'miscellaneous', 'bathrooms']\n",
      "categorical_columns: ['room_type', 'state', 'host_gender', 'bathroom_type']\n",
      "boolean_columns: ['host_is_superhost', 'host_identity_verified', 'has_license', 'instant_bookable']\n",
      "ordered_columns: ['host_response_time', 'host_response_rate', 'host_acceptance_rate', 'review_scores_rating', 'description_sentiment', 'neighborhood_overview_sentiment']\n"
     ]
    }
   ],
   "source": [
    "numeric_columns = []\n",
    "categorical_columns = []\n",
    "boolean_columns = ['host_is_superhost', 'host_identity_verified', 'has_license', 'instant_bookable']\n",
    "ordered_columns = ['host_response_time', 'host_response_rate', 'host_acceptance_rate', 'review_scores_rating', 'description_sentiment', 'neighborhood_overview_sentiment']\n",
    "\n",
    "column_types = train.dtypes\n",
    "for i in range(len(column_types)):\n",
    "  if column_types[i] == 'object' and column_types.index[i] not in ordered_columns:\n",
    "    categorical_columns.append(column_types.index[i])\n",
    "  elif column_types.index[i] not in boolean_columns and column_types[i] != 'object':\n",
    "    numeric_columns.append(column_types.index[i])\n",
    "\n",
    "print(\"numeric_columns: \" + str(numeric_columns))\n",
    "print(\"categorical_columns: \" + str(categorical_columns))\n",
    "print(\"boolean_columns: \" + str(boolean_columns))\n",
    "print(\"ordered_columns: \" + str(ordered_columns))"
   ]
  },
  {
   "cell_type": "code",
   "execution_count": 6,
   "metadata": {},
   "outputs": [
    {
     "data": {
      "text/html": [
       "<div>\n",
       "<style scoped>\n",
       "    .dataframe tbody tr th:only-of-type {\n",
       "        vertical-align: middle;\n",
       "    }\n",
       "\n",
       "    .dataframe tbody tr th {\n",
       "        vertical-align: top;\n",
       "    }\n",
       "\n",
       "    .dataframe thead th {\n",
       "        text-align: right;\n",
       "    }\n",
       "</style>\n",
       "<table border=\"1\" class=\"dataframe\">\n",
       "  <thead>\n",
       "    <tr style=\"text-align: right;\">\n",
       "      <th></th>\n",
       "      <th>index</th>\n",
       "      <th>cardinality</th>\n",
       "    </tr>\n",
       "  </thead>\n",
       "  <tbody>\n",
       "    <tr>\n",
       "      <th>0</th>\n",
       "      <td>host_response_time</td>\n",
       "      <td>5</td>\n",
       "    </tr>\n",
       "    <tr>\n",
       "      <th>1</th>\n",
       "      <td>host_response_rate</td>\n",
       "      <td>7</td>\n",
       "    </tr>\n",
       "    <tr>\n",
       "      <th>2</th>\n",
       "      <td>host_acceptance_rate</td>\n",
       "      <td>7</td>\n",
       "    </tr>\n",
       "    <tr>\n",
       "      <th>3</th>\n",
       "      <td>room_type</td>\n",
       "      <td>4</td>\n",
       "    </tr>\n",
       "    <tr>\n",
       "      <th>4</th>\n",
       "      <td>review_scores_rating</td>\n",
       "      <td>26</td>\n",
       "    </tr>\n",
       "    <tr>\n",
       "      <th>5</th>\n",
       "      <td>state</td>\n",
       "      <td>8</td>\n",
       "    </tr>\n",
       "    <tr>\n",
       "      <th>6</th>\n",
       "      <td>description_sentiment</td>\n",
       "      <td>6</td>\n",
       "    </tr>\n",
       "    <tr>\n",
       "      <th>7</th>\n",
       "      <td>neighborhood_overview_sentiment</td>\n",
       "      <td>7</td>\n",
       "    </tr>\n",
       "    <tr>\n",
       "      <th>8</th>\n",
       "      <td>host_gender</td>\n",
       "      <td>3</td>\n",
       "    </tr>\n",
       "    <tr>\n",
       "      <th>9</th>\n",
       "      <td>bathroom_type</td>\n",
       "      <td>6</td>\n",
       "    </tr>\n",
       "  </tbody>\n",
       "</table>\n",
       "</div>"
      ],
      "text/plain": [
       "                             index  cardinality\n",
       "0               host_response_time            5\n",
       "1               host_response_rate            7\n",
       "2             host_acceptance_rate            7\n",
       "3                        room_type            4\n",
       "4             review_scores_rating           26\n",
       "5                            state            8\n",
       "6            description_sentiment            6\n",
       "7  neighborhood_overview_sentiment            7\n",
       "8                      host_gender            3\n",
       "9                    bathroom_type            6"
      ]
     },
     "execution_count": 6,
     "metadata": {},
     "output_type": "execute_result"
    }
   ],
   "source": [
    "train[train.select_dtypes('object').columns].nunique().reset_index(name='cardinality')\n",
    "val[val.select_dtypes('object').columns].nunique().reset_index(name='cardinality')\n",
    "test[test.select_dtypes('object').columns].nunique().reset_index(name='cardinality')"
   ]
  },
  {
   "cell_type": "markdown",
   "metadata": {},
   "source": [
    "### Checking our target variable"
   ]
  },
  {
   "cell_type": "code",
   "execution_count": 7,
   "metadata": {},
   "outputs": [
    {
     "name": "stdout",
     "output_type": "stream",
     "text": [
      "Skewness: 20.256241\n",
      "Kurtosis: 653.266100\n"
     ]
    },
    {
     "data": {
      "image/png": "[encoded data removed]",
      "text/plain": [
       "<Figure size 432x288 with 1 Axes>"
      ]
     },
     "metadata": {
      "needs_background": "light"
     },
     "output_type": "display_data"
    },
    {
     "data": {
      "image/png": "[encoded data removed]",
      "text/plain": [
       "<Figure size 432x288 with 1 Axes>"
      ]
     },
     "metadata": {
      "needs_background": "light"
     },
     "output_type": "display_data"
    }
   ],
   "source": [
    "import scipy.stats as stats\n",
    "from scipy.stats import norm\n",
    "\n",
    "sns.distplot(train['price'], kde=True,fit=norm);\n",
    "fig = plt.figure()\n",
    "res = stats.probplot(train['price'], plot=plt)\n",
    "print(\"Skewness: %f\" % train['price'].skew())\n",
    "print(\"Kurtosis: %f\" % train['price'].kurt())"
   ]
  },
  {
   "cell_type": "markdown",
   "metadata": {},
   "source": [
    "###### Clearly, the price variable here is very skewed with its high skewness and kurtosis values. We could try to remove outliers or transform the variable."
   ]
  },
  {
   "cell_type": "code",
   "execution_count": 8,
   "metadata": {},
   "outputs": [
    {
     "name": "stdout",
     "output_type": "stream",
     "text": [
      "0 518.0\n"
     ]
    }
   ],
   "source": [
    "q3, q1 = np.percentile(train['price'], [75 ,25])\n",
    "iqr = q3 - q1\n",
    "lower_bound = max(q1 - 1.5* iqr, 0)\n",
    "upper_bound = q3 + 1.5 * iqr\n",
    "print(lower_bound, upper_bound)"
   ]
  },
  {
   "cell_type": "code",
   "execution_count": 9,
   "metadata": {},
   "outputs": [],
   "source": [
    "train = train[train['price'] <= 518.0]\n",
    "train.reset_index(inplace=True)\n",
    "X_train = train.drop(['price'], axis=1)\n",
    "y_train = train['price']\n",
    "\n",
    "val = val[val['price'] <= 518.0]\n",
    "val.reset_index(inplace=True)\n",
    "X_val = val.drop(['price'], axis=1)\n",
    "y_val = val['price']\n",
    "\n",
    "test = test[test['price'] <= 518.0]\n",
    "test.reset_index(inplace=True)\n",
    "X_test = test.drop(['price'], axis=1)\n",
    "y_test = test['price']"
   ]
  },
  {
   "cell_type": "code",
   "execution_count": 10,
   "metadata": {},
   "outputs": [
    {
     "data": {
      "text/plain": [
       "518.0"
      ]
     },
     "execution_count": 10,
     "metadata": {},
     "output_type": "execute_result"
    }
   ],
   "source": [
    "train['price'].max()"
   ]
  },
  {
   "cell_type": "code",
   "execution_count": 11,
   "metadata": {},
   "outputs": [
    {
     "name": "stdout",
     "output_type": "stream",
     "text": [
      "Skewness: 1.120570\n",
      "Kurtosis: 0.676878\n"
     ]
    },
    {
     "data": {
      "image/png": "[encoded data removed]",
      "text/plain": [
       "<Figure size 432x288 with 1 Axes>"
      ]
     },
     "metadata": {
      "needs_background": "light"
     },
     "output_type": "display_data"
    },
    {
     "data": {
      "image/png": "[encoded data removed]",
      "text/plain": [
       "<Figure size 432x288 with 1 Axes>"
      ]
     },
     "metadata": {
      "needs_background": "light"
     },
     "output_type": "display_data"
    }
   ],
   "source": [
    "sns.distplot(train['price'], kde=True,fit=norm);\n",
    "fig = plt.figure()\n",
    "res = stats.probplot(train['price'], plot=plt)\n",
    "print(\"Skewness: %f\" % train['price'].skew())\n",
    "print(\"Kurtosis: %f\" % train['price'].kurt())"
   ]
  },
  {
   "cell_type": "code",
   "execution_count": 12,
   "metadata": {},
   "outputs": [],
   "source": [
    "X_train = train.drop(['price'], axis=1)\n",
    "y_train = train['price']\n",
    "\n",
    "X_val = val.drop(['price'], axis=1)\n",
    "y_val = val['price']\n",
    "\n",
    "X_test = test.drop(['price'], axis=1)\n",
    "y_test = test['price']"
   ]
  },
  {
   "cell_type": "markdown",
   "metadata": {},
   "source": [
    "### Handling Categorical Variables"
   ]
  },
  {
   "cell_type": "code",
   "execution_count": 13,
   "metadata": {},
   "outputs": [],
   "source": [
    "from sklearn.preprocessing import OneHotEncoder, StandardScaler, OrdinalEncoder\n",
    "\n",
    "enc_X_train = pd.DataFrame()\n",
    "enc_X_val = pd.DataFrame()\n",
    "enc_X_test = pd.DataFrame()\n",
    "enc_X_combined_test = pd.DataFrame()\n",
    "\n",
    "for column in X_train.columns:\n",
    "  if column in categorical_columns:\n",
    "    enc = OneHotEncoder(handle_unknown='ignore')\n",
    "    enc_col_train = enc.fit_transform(X_train[[column]])\n",
    "    feature_names = enc.get_feature_names_out()\n",
    "    enc_X_train[feature_names] = pd.DataFrame.sparse.from_spmatrix(enc_col_train, columns=feature_names)\n",
    "\n",
    "    enc_col_val = enc.transform(X_val[[column]])\n",
    "    enc_X_val[feature_names] = pd.DataFrame.sparse.from_spmatrix(enc_col_val, columns=feature_names)\n",
    "\n",
    "    enc_col_test = enc.transform(X_test[[column]])\n",
    "    enc_X_test[feature_names] = pd.DataFrame.sparse.from_spmatrix(enc_col_test, columns=feature_names)\n",
    "  elif column in numeric_columns:\n",
    "    scaler = StandardScaler()\n",
    "    transformed_col_train = scaler.fit_transform(X_train[[column]])\n",
    "    enc_X_train[column] = transformed_col_train\n",
    "\n",
    "    transformed_col_val = scaler.transform(X_val[[column]])\n",
    "    enc_X_val[column] = transformed_col_val\n",
    "\n",
    "    transformed_col_test = scaler.transform(X_test[[column]])\n",
    "    enc_X_test[column] = transformed_col_test\n",
    "  elif column in boolean_columns:\n",
    "    enc_X_train[column] = X_train[[column]]\n",
    "    enc_X_val[column] = X_val[[column]]\n",
    "    enc_X_test[column] = X_test[[column]]\n",
    "\n",
    "for column in ordered_columns:\n",
    "    enc = OrdinalEncoder(handle_unknown=\"use_encoded_value\", unknown_value=-1)\n",
    "    enc_col_train = enc.fit_transform(X_train[[column]])\n",
    "    enc_X_train[column] = enc_col_train\n",
    "\n",
    "    enc_col_val = enc.transform(X_val[[column]])\n",
    "    enc_X_val[column] = enc_col_val\n",
    "    \n",
    "    enc_col_test = enc.transform(X_test[[column]])\n",
    "    enc_X_test[column] = enc_col_test"
   ]
  },
  {
   "cell_type": "code",
   "execution_count": 14,
   "metadata": {},
   "outputs": [
    {
     "name": "stdout",
     "output_type": "stream",
     "text": [
      "<class 'pandas.core.frame.DataFrame'>\n",
      "RangeIndex: 40140 entries, 0 to 40139\n",
      "Data columns (total 51 columns):\n",
      " #   Column                           Non-Null Count  Dtype             \n",
      "---  ------                           --------------  -----             \n",
      " 0   host_is_superhost                40140 non-null  int64             \n",
      " 1   host_identity_verified           40140 non-null  int64             \n",
      " 2   room_type_Entire home/apt        40140 non-null  Sparse[float64, 0]\n",
      " 3   room_type_Hotel room             40140 non-null  Sparse[float64, 0]\n",
      " 4   room_type_Private room           40140 non-null  Sparse[float64, 0]\n",
      " 5   room_type_Shared room            40140 non-null  Sparse[float64, 0]\n",
      " 6   accommodates                     40140 non-null  float64           \n",
      " 7   bedrooms                         40140 non-null  float64           \n",
      " 8   beds                             40140 non-null  float64           \n",
      " 9   minimum_nights                   40140 non-null  float64           \n",
      " 10  maximum_nights                   40140 non-null  float64           \n",
      " 11  availability_30                  40140 non-null  float64           \n",
      " 12  number_of_reviews                40140 non-null  float64           \n",
      " 13  instant_bookable                 40140 non-null  int64             \n",
      " 14  reviews_per_month                40140 non-null  float64           \n",
      " 15  state_Los Angeles                40140 non-null  Sparse[float64, 0]\n",
      " 16  state_Oakland                    40140 non-null  Sparse[float64, 0]\n",
      " 17  state_Pacific Grove              40140 non-null  Sparse[float64, 0]\n",
      " 18  state_San Diego                  40140 non-null  Sparse[float64, 0]\n",
      " 19  state_San Francisco              40140 non-null  Sparse[float64, 0]\n",
      " 20  state_San Mateo County           40140 non-null  Sparse[float64, 0]\n",
      " 21  state_Santa Clara County         40140 non-null  Sparse[float64, 0]\n",
      " 22  state_Santa Cruz County          40140 non-null  Sparse[float64, 0]\n",
      " 23  num_mall_within_1000             40140 non-null  float64           \n",
      " 24  num_attraction_within_1000       40140 non-null  float64           \n",
      " 25  sentiment_median_score           40140 non-null  float64           \n",
      " 26  has_license                      40140 non-null  int64             \n",
      " 27  essentials                       40140 non-null  float64           \n",
      " 28  luxury                           40140 non-null  float64           \n",
      " 29  appliances                       40140 non-null  float64           \n",
      " 30  comfort                          40140 non-null  float64           \n",
      " 31  entertainment                    40140 non-null  float64           \n",
      " 32  security                         40140 non-null  float64           \n",
      " 33  furniture                        40140 non-null  float64           \n",
      " 34  miscellaneous                    40140 non-null  float64           \n",
      " 35  host_gender_female               40140 non-null  Sparse[float64, 0]\n",
      " 36  host_gender_male                 40140 non-null  Sparse[float64, 0]\n",
      " 37  host_gender_unknown              40140 non-null  Sparse[float64, 0]\n",
      " 38  bathrooms                        40140 non-null  float64           \n",
      " 39  bathroom_type_NA                 40140 non-null  Sparse[float64, 0]\n",
      " 40  bathroom_type_bath               40140 non-null  Sparse[float64, 0]\n",
      " 41  bathroom_type_baths              40140 non-null  Sparse[float64, 0]\n",
      " 42  bathroom_type_half-bath          40140 non-null  Sparse[float64, 0]\n",
      " 43  bathroom_type_private            40140 non-null  Sparse[float64, 0]\n",
      " 44  bathroom_type_shared             40140 non-null  Sparse[float64, 0]\n",
      " 45  host_response_time               40140 non-null  float64           \n",
      " 46  host_response_rate               40140 non-null  float64           \n",
      " 47  host_acceptance_rate             40140 non-null  float64           \n",
      " 48  review_scores_rating             40140 non-null  float64           \n",
      " 49  description_sentiment            40140 non-null  float64           \n",
      " 50  neighborhood_overview_sentiment  40140 non-null  float64           \n",
      "dtypes: Sparse[float64, 0](21), float64(26), int64(4)\n",
      "memory usage: 11.0 MB\n"
     ]
    }
   ],
   "source": [
    "enc_X_train.info()"
   ]
  },
  {
   "cell_type": "markdown",
   "metadata": {},
   "source": [
    "## Feature Selection"
   ]
  },
  {
   "cell_type": "markdown",
   "metadata": {},
   "source": [
    "### Correlation"
   ]
  },
  {
   "cell_type": "code",
   "execution_count": 15,
   "metadata": {},
   "outputs": [
    {
     "data": {
      "text/plain": [
       "accommodates                       0.625897\n",
       "bedrooms                           0.624567\n",
       "beds                               0.547853\n",
       "bathroom_type_baths                0.547407\n",
       "room_type_Entire home/apt          0.453123\n",
       "bathrooms                          0.373818\n",
       "entertainment                      0.269810\n",
       "appliances                         0.260054\n",
       "luxury                             0.227750\n",
       "miscellaneous                      0.225600\n",
       "furniture                          0.136509\n",
       "has_license                        0.126966\n",
       "description_sentiment              0.120100\n",
       "availability_30                    0.117573\n",
       "host_response_time                 0.113138\n",
       "sentiment_median_score             0.111822\n",
       "essentials                         0.104063\n",
       "state_Santa Cruz County            0.099398\n",
       "state_San Diego                    0.081488\n",
       "instant_bookable                   0.067897\n",
       "review_scores_rating               0.067686\n",
       "host_is_superhost                  0.065152\n",
       "comfort                            0.063542\n",
       "state_Pacific Grove                0.060425\n",
       "num_attraction_within_1000         0.059043\n",
       "host_gender_unknown                0.050440\n",
       "neighborhood_overview_sentiment    0.036080\n",
       "reviews_per_month                  0.030566\n",
       "host_identity_verified             0.026164\n",
       "host_acceptance_rate               0.025707\n",
       "host_response_rate                 0.018956\n",
       "room_type_Hotel room               0.010196\n",
       "maximum_nights                     0.009134\n",
       "num_mall_within_1000               0.008434\n",
       "state_San Francisco                0.007242\n",
       "state_San Mateo County             0.005871\n",
       "bathroom_type_NA                  -0.016599\n",
       "host_gender_female                -0.019495\n",
       "bathroom_type_half-bath           -0.022872\n",
       "number_of_reviews                 -0.024460\n",
       "host_gender_male                  -0.029098\n",
       "security                          -0.032106\n",
       "state_Santa Clara County          -0.034430\n",
       "state_Los Angeles                 -0.059017\n",
       "state_Oakland                     -0.064712\n",
       "minimum_nights                    -0.096058\n",
       "bathroom_type_bath                -0.096190\n",
       "room_type_Shared room             -0.134546\n",
       "bathroom_type_private             -0.181143\n",
       "bathroom_type_shared              -0.374409\n",
       "room_type_Private room            -0.427885\n",
       "dtype: float64"
      ]
     },
     "execution_count": 15,
     "metadata": {},
     "output_type": "execute_result"
    }
   ],
   "source": [
    "corr_with_y = enc_X_train.corrwith(y_train)\n",
    "corr_with_y.sort_values(ascending = False)"
   ]
  },
  {
   "cell_type": "markdown",
   "metadata": {},
   "source": [
    "##### None of them have a correlation of 0, so we can keep them"
   ]
  },
  {
   "cell_type": "markdown",
   "metadata": {},
   "source": [
    "### RFE"
   ]
  },
  {
   "cell_type": "markdown",
   "metadata": {},
   "source": [
    "The Recursive Feature Elimination (RFE) method works by recursively removing attributes and building a model on those attributes that remain. It uses accuracy metric to rank the feature according to their importance. "
   ]
  },
  {
   "cell_type": "code",
   "execution_count": 17,
   "metadata": {},
   "outputs": [
    {
     "name": "stdout",
     "output_type": "stream",
     "text": [
      "Optimum number of features: 48\n",
      "Score with 48 features: 0.543806\n"
     ]
    }
   ],
   "source": [
    "from sklearn.feature_selection import RFE\n",
    "from sklearn.linear_model import LinearRegression\n",
    "\n",
    "#no of features\n",
    "nof_list=np.arange(1,51)            \n",
    "high_score=0\n",
    "#Variable to store the optimum features\n",
    "nof=0           \n",
    "score_list =[]\n",
    "for n in range(len(nof_list)):\n",
    "    model = LinearRegression()\n",
    "    rfe = RFE(model, n_features_to_select = nof_list[n])\n",
    "    X_train_rfe = rfe.fit_transform(enc_X_train,y_train)\n",
    "    X_test_rfe = rfe.transform(enc_X_test)\n",
    "    model.fit(X_train_rfe,y_train)\n",
    "    score = model.score(X_test_rfe,y_test)\n",
    "    score_list.append(score)\n",
    "    if(score>high_score):\n",
    "        high_score = score\n",
    "        nof = nof_list[n]\n",
    "print(\"Optimum number of features: %d\" %nof)\n",
    "print(\"Score with %d features: %f\" % (nof, high_score))"
   ]
  },
  {
   "cell_type": "code",
   "execution_count": 18,
   "metadata": {},
   "outputs": [
    {
     "name": "stdout",
     "output_type": "stream",
     "text": [
      "Index(['host_is_superhost', 'host_identity_verified',\n",
      "       'room_type_Entire home/apt', 'room_type_Hotel room',\n",
      "       'room_type_Private room', 'room_type_Shared room', 'accommodates',\n",
      "       'bedrooms', 'beds', 'minimum_nights', 'availability_30',\n",
      "       'number_of_reviews', 'instant_bookable', 'reviews_per_month',\n",
      "       'state_Los Angeles', 'state_Oakland', 'state_Pacific Grove',\n",
      "       'state_San Diego', 'state_San Francisco', 'state_San Mateo County',\n",
      "       'state_Santa Clara County', 'state_Santa Cruz County',\n",
      "       'num_mall_within_1000', 'num_attraction_within_1000',\n",
      "       'sentiment_median_score', 'has_license', 'essentials', 'luxury',\n",
      "       'appliances', 'comfort', 'entertainment', 'furniture', 'miscellaneous',\n",
      "       'host_gender_female', 'host_gender_male', 'host_gender_unknown',\n",
      "       'bathrooms', 'bathroom_type_NA', 'bathroom_type_bath',\n",
      "       'bathroom_type_baths', 'bathroom_type_half-bath',\n",
      "       'bathroom_type_private', 'bathroom_type_shared', 'host_response_time',\n",
      "       'host_response_rate', 'review_scores_rating', 'description_sentiment',\n",
      "       'neighborhood_overview_sentiment'],\n",
      "      dtype='object')\n"
     ]
    }
   ],
   "source": [
    "cols = list(enc_X_train.columns)\n",
    "model = LinearRegression()\n",
    "\n",
    "#Initializing RFE model\n",
    "rfe = RFE(model, n_features_to_select = 48)\n",
    "\n",
    "#Transforming data using RFE\n",
    "X_rfe = rfe.fit_transform(enc_X_train, y_train)  \n",
    "\n",
    "#Fitting the data to model\n",
    "model.fit(X_rfe, y_train)              \n",
    "temp = pd.Series(rfe.support_,index = cols)\n",
    "selected_features_rfe = temp[temp==True].index\n",
    "print(selected_features_rfe)"
   ]
  },
  {
   "cell_type": "code",
   "execution_count": 19,
   "metadata": {},
   "outputs": [],
   "source": [
    "X_train_rfe = enc_X_train[list(selected_features_rfe)]\n",
    "X_test_rfe = enc_X_test[list(selected_features_rfe)]\n",
    "X_val_rfe = enc_X_val[list(selected_features_rfe)]"
   ]
  },
  {
   "cell_type": "markdown",
   "metadata": {},
   "source": [
    "### Embedded Method"
   ]
  },
  {
   "cell_type": "markdown",
   "metadata": {},
   "source": [
    "Embedded methods are iterative in a sense that takes care of each iteration of the model training process and carefully extract those features which contribute the most to the training for a particular iteration. Regularization methods are the most commonly used embedded methods which penalize a feature given a coefficient threshold.\n",
    "\n",
    "Here we will do feature selection using Lasso regularization. If the feature is irrelevant, lasso penalizes it’s coefficient and make it 0. Hence the features with coefficient = 0 are removed and the rest are taken."
   ]
  },
  {
   "cell_type": "code",
   "execution_count": 20,
   "metadata": {},
   "outputs": [
    {
     "name": "stdout",
     "output_type": "stream",
     "text": [
      "Best alpha using built-in LassoCV: 0.127818\n",
      "Best score using built-in LassoCV: 0.560607\n",
      "Lasso picked 43 variables and eliminated the other 8 variables\n"
     ]
    }
   ],
   "source": [
    "from sklearn.linear_model import LassoCV\n",
    "\n",
    "reg = LassoCV()\n",
    "reg.fit(enc_X_train, y_train)\n",
    "\n",
    "print(\"Best alpha using built-in LassoCV: %f\" % reg.alpha_)\n",
    "print(\"Best score using built-in LassoCV: %f\" %reg.score(enc_X_train,y_train))\n",
    "\n",
    "coef = pd.Series(reg.coef_, index = enc_X_train.columns)\n",
    "\n",
    "print(\"Lasso picked \" + str(sum(coef != 0)) + \" variables and eliminated the other \" +  str(sum(coef == 0)) + \" variables\")"
   ]
  },
  {
   "cell_type": "code",
   "execution_count": 21,
   "metadata": {},
   "outputs": [
    {
     "data": {
      "text/plain": [
       "Text(0.5, 1.0, 'Feature importance using Lasso Model')"
      ]
     },
     "execution_count": 21,
     "metadata": {},
     "output_type": "execute_result"
    },
    {
     "data": {
      "image/png": "[encoded data removed]",
      "text/plain": [
       "<Figure size 576x720 with 1 Axes>"
      ]
     },
     "metadata": {
      "needs_background": "light"
     },
     "output_type": "display_data"
    }
   ],
   "source": [
    "imp_coef = coef.sort_values()\n",
    "import matplotlib\n",
    "matplotlib.rcParams['figure.figsize'] = (8.0, 10.0)\n",
    "imp_coef.plot(kind = \"barh\")\n",
    "plt.title(\"Feature importance using Lasso Model\")"
   ]
  },
  {
   "cell_type": "code",
   "execution_count": 22,
   "metadata": {},
   "outputs": [
    {
     "data": {
      "text/plain": [
       "Index(['room_type_Shared room', 'state_Oakland', 'state_Los Angeles',\n",
       "       'bathroom_type_shared', 'minimum_nights', 'essentials',\n",
       "       'host_gender_male', 'reviews_per_month', 'number_of_reviews',\n",
       "       'state_San Diego', 'furniture', 'host_response_time',\n",
       "       'room_type_Private room', 'beds', 'state_San Francisco', 'comfort',\n",
       "       'host_acceptance_rate', 'review_scores_rating', 'security',\n",
       "       'neighborhood_overview_sentiment', 'host_response_rate',\n",
       "       'host_identity_verified', 'bathrooms', 'instant_bookable',\n",
       "       'description_sentiment', 'sentiment_median_score', 'miscellaneous',\n",
       "       'luxury', 'host_gender_unknown', 'num_attraction_within_1000',\n",
       "       'host_is_superhost', 'state_San Mateo County', 'entertainment',\n",
       "       'room_type_Hotel room', 'availability_30', 'bathroom_type_private',\n",
       "       'accommodates', 'bedrooms', 'has_license', 'bathroom_type_baths',\n",
       "       'state_Pacific Grove', 'room_type_Entire home/apt',\n",
       "       'state_Santa Cruz County'],\n",
       "      dtype='object')"
      ]
     },
     "execution_count": 22,
     "metadata": {},
     "output_type": "execute_result"
    }
   ],
   "source": [
    "selected_features_lasso = imp_coef[imp_coef != 0].index\n",
    "selected_features_lasso"
   ]
  },
  {
   "cell_type": "code",
   "execution_count": 23,
   "metadata": {},
   "outputs": [],
   "source": [
    "X_train_lasso = enc_X_train[list(selected_features_lasso)]\n",
    "X_test_lasso = enc_X_test[list(selected_features_lasso)]\n",
    "X_val_lasso = enc_X_val[list(selected_features_lasso)]"
   ]
  },
  {
   "cell_type": "markdown",
   "metadata": {},
   "source": [
    "## Linear Regression"
   ]
  },
  {
   "cell_type": "markdown",
   "metadata": {},
   "source": [
    "### Full set of features"
   ]
  },
  {
   "cell_type": "markdown",
   "metadata": {},
   "source": [
    "#### Training"
   ]
  },
  {
   "cell_type": "code",
   "execution_count": 24,
   "metadata": {},
   "outputs": [
    {
     "name": "stdout",
     "output_type": "stream",
     "text": [
      "Training RMSE for Linear Regression: 72.20783717660493\n",
      "Training MAE for Linear Regression: 52.16235343485302\n",
      "Training R2 for Linear Regression: 0.5610191660182364\n"
     ]
    }
   ],
   "source": [
    "from sklearn.linear_model import LinearRegression\n",
    "from sklearn.metrics import mean_squared_error\n",
    "from sklearn.metrics import r2_score\n",
    "from sklearn.metrics import mean_absolute_error\n",
    "\n",
    "lin_reg = LinearRegression()\n",
    "lin_reg.fit(enc_X_train, y_train)\n",
    "\n",
    "linear_predictions_train = lin_reg.predict(enc_X_train)\n",
    "\n",
    "lin_mse_train = mean_squared_error(y_train, linear_predictions_train)\n",
    "lin_rmse_train = np.sqrt(lin_mse_train)\n",
    "print(\"Training RMSE for Linear Regression:\", lin_rmse_train)\n",
    "\n",
    "lin_mae_train = mean_absolute_error(y_train, linear_predictions_train)\n",
    "print(\"Training MAE for Linear Regression:\", lin_mae_train)\n",
    "\n",
    "lin_r2_train = r2_score(y_train, linear_predictions_train)\n",
    "print(\"Training R2 for Linear Regression:\", lin_r2_train)"
   ]
  },
  {
   "cell_type": "markdown",
   "metadata": {},
   "source": [
    "#### Validation"
   ]
  },
  {
   "cell_type": "code",
   "execution_count": 25,
   "metadata": {},
   "outputs": [
    {
     "name": "stdout",
     "output_type": "stream",
     "text": [
      "Validation RMSE for Linear Regression: 71.64465038033893\n",
      "Validation MAE for Linear Regression: 52.45043209572582\n",
      "Validation R2 for Linear Regression: 0.5640498267537478\n"
     ]
    }
   ],
   "source": [
    "linear_predictions_val = lin_reg.predict(enc_X_val)\n",
    "\n",
    "lin_mse_val = mean_squared_error(y_val, linear_predictions_val)\n",
    "lin_rmse_val = np.sqrt(lin_mse_val)\n",
    "print(\"Validation RMSE for Linear Regression:\", lin_rmse_val)\n",
    "\n",
    "lin_mae_val = mean_absolute_error(y_val, linear_predictions_val)\n",
    "print(\"Validation MAE for Linear Regression:\", lin_mae_val)\n",
    "\n",
    "lin_r2_val = r2_score(y_val, linear_predictions_val)\n",
    "print(\"Validation R2 for Linear Regression:\", lin_r2_val)"
   ]
  },
  {
   "cell_type": "markdown",
   "metadata": {},
   "source": [
    "### Features after RFE"
   ]
  },
  {
   "cell_type": "markdown",
   "metadata": {},
   "source": [
    "#### Training"
   ]
  },
  {
   "cell_type": "code",
   "execution_count": 26,
   "metadata": {},
   "outputs": [
    {
     "name": "stdout",
     "output_type": "stream",
     "text": [
      "Training RMSE for Linear Regression: 72.14148953746154\n",
      "Training MAE for Linear Regression: 52.095270305882536\n",
      "Training R2 for Linear Regression: 0.5618255040086613\n"
     ]
    }
   ],
   "source": [
    "lin_reg_rfe = LinearRegression()\n",
    "\n",
    "lin_reg_rfe.fit(X_train_rfe, y_train)\n",
    "\n",
    "rfe_predictions_train = lin_reg_rfe.predict(X_train_rfe)\n",
    "\n",
    "rfe_mse_train = mean_squared_error(y_train, rfe_predictions_train)\n",
    "rfe_rmse_train = np.sqrt(rfe_mse_train)\n",
    "print(\"Training RMSE for Linear Regression:\", rfe_rmse_train)\n",
    "\n",
    "rfe_mae_train = mean_absolute_error(y_train, rfe_predictions_train)\n",
    "print(\"Training MAE for Linear Regression:\", rfe_mae_train)\n",
    "\n",
    "rfe_r2_train = r2_score(y_train, rfe_predictions_train)\n",
    "print(\"Training R2 for Linear Regression:\", rfe_r2_train)"
   ]
  },
  {
   "cell_type": "markdown",
   "metadata": {},
   "source": [
    "#### Validation"
   ]
  },
  {
   "cell_type": "code",
   "execution_count": 29,
   "metadata": {},
   "outputs": [
    {
     "name": "stdout",
     "output_type": "stream",
     "text": [
      "Validation RMSE for Linear Regression: 71.50808575982289\n",
      "Validation MAE for Linear Regression: 52.31403841774178\n",
      "Validation R2 for Linear Regression: 0.565710205535124\n"
     ]
    }
   ],
   "source": [
    "rfe_predictions_val = lin_reg_rfe.predict(X_val_rfe)\n",
    "\n",
    "rfe_mse_val = mean_squared_error(y_val, rfe_predictions_val)\n",
    "rfe_rmse_val = np.sqrt(rfe_mse_val)\n",
    "print(\"Validation RMSE for Linear Regression:\", rfe_rmse_val)\n",
    "\n",
    "rfe_mae_val = mean_absolute_error(y_val, rfe_predictions_val)\n",
    "print(\"Validation MAE for Linear Regression:\", rfe_mae_val)\n",
    "\n",
    "rfe_r2_val = r2_score(y_val, rfe_predictions_val)\n",
    "print(\"Validation R2 for Linear Regression:\", rfe_r2_val)"
   ]
  },
  {
   "cell_type": "markdown",
   "metadata": {},
   "source": [
    "### Features after LassoCV"
   ]
  },
  {
   "cell_type": "markdown",
   "metadata": {},
   "source": [
    "#### Training"
   ]
  },
  {
   "cell_type": "code",
   "execution_count": 30,
   "metadata": {},
   "outputs": [
    {
     "name": "stdout",
     "output_type": "stream",
     "text": [
      "Training RMSE for Linear Regression: 72.14294874958892\n",
      "Training MAE for Linear Regression: 52.1126376486162\n",
      "Training R2 for Linear Regression: 0.5618077778427877\n"
     ]
    }
   ],
   "source": [
    "lin_reg_lasso = LinearRegression()\n",
    "\n",
    "lin_reg_lasso.fit(X_train_lasso, y_train)\n",
    "\n",
    "lasso_predictions_train = lin_reg_lasso.predict(X_train_lasso)\n",
    "\n",
    "lasso_mse_train = mean_squared_error(y_train, lasso_predictions_train)\n",
    "lasso_rmse_train = np.sqrt(lasso_mse_train)\n",
    "print(\"Training RMSE for Linear Regression:\", lasso_rmse_train)\n",
    "\n",
    "lasso_mae_train = mean_absolute_error(y_train, lasso_predictions_train)\n",
    "print(\"Training MAE for Linear Regression:\", lasso_mae_train)\n",
    "\n",
    "lasso_r2_train = r2_score(y_train, lasso_predictions_train)\n",
    "print(\"Training R2 for Linear Regression:\", lasso_r2_train)"
   ]
  },
  {
   "cell_type": "markdown",
   "metadata": {},
   "source": [
    "#### Validation"
   ]
  },
  {
   "cell_type": "code",
   "execution_count": 31,
   "metadata": {},
   "outputs": [
    {
     "name": "stdout",
     "output_type": "stream",
     "text": [
      "Validation RMSE for Linear Regression: 72.14294874958892\n",
      "Validation MAE for Linear Regression: 51.89988551309828\n",
      "Validation R2 for Linear Regression: 0.5710094492003899\n"
     ]
    }
   ],
   "source": [
    "lin_reg_lasso.fit(X_val_lasso, y_val)\n",
    "\n",
    "lasso_predictions_val = lin_reg_lasso.predict(X_val_lasso)\n",
    "\n",
    "lasso_mse_val = mean_squared_error(y_val, lasso_predictions_val)\n",
    "lasso_rmse_val = np.sqrt(lasso_mse_train)\n",
    "print(\"Validation RMSE for Linear Regression:\", lasso_rmse_val)\n",
    "\n",
    "lasso_mae_val = mean_absolute_error(y_val, lasso_predictions_val)\n",
    "print(\"Validation MAE for Linear Regression:\", lasso_mae_val)\n",
    "\n",
    "lasso_r2_val = r2_score(y_val, lasso_predictions_val)\n",
    "print(\"Validation R2 for Linear Regression:\", lasso_r2_val)"
   ]
  },
  {
   "cell_type": "markdown",
   "metadata": {},
   "source": [
    "##### It seems like the model after feature selection using LassoCV is the best. We'll go ahead to test this model"
   ]
  },
  {
   "cell_type": "markdown",
   "metadata": {},
   "source": [
    "## Predict"
   ]
  },
  {
   "cell_type": "code",
   "execution_count": 32,
   "metadata": {},
   "outputs": [
    {
     "name": "stdout",
     "output_type": "stream",
     "text": [
      "score:  0.5436628558328367\n",
      "Model slope:     [ 1.34835978e+14 -2.98598148e+01 -2.27978474e+01  5.76502995e+00\n",
      " -5.82119197e+00 -3.92669006e+00 -4.50307215e+00 -1.48517272e+00\n",
      " -4.32780461e+00 -8.22552231e+00 -1.32539800e+00 -2.34566130e+00\n",
      "  1.34835978e+14  4.09801225e+00 -5.72258854e+00 -2.72540985e+00\n",
      " -1.23148611e+00  6.55485840e-01  1.11770348e-01  1.37287607e+00\n",
      "  1.51786712e-01  5.14119997e+00  3.66200828e+00  3.70192885e+00\n",
      "  4.23497685e+00  5.00707741e+00  2.90542320e+00  4.96019139e+00\n",
      "  3.68378346e+00  5.45676216e+00  9.46495768e+00  5.22098554e+00\n",
      "  9.49141497e+00  1.34835978e+14  1.26193681e+01  3.14817056e+01\n",
      "  1.29553492e+01  2.79584577e+01  3.12450875e+01  3.60901684e+01\n",
      "  1.01087937e+01  1.34835978e+14  6.00961863e+01]\n",
      "Model intercept: -134835977670688.89\n"
     ]
    }
   ],
   "source": [
    "y_pred = lin_reg_lasso.predict(X_test_lasso)\n",
    "print(\"score: \",lin_reg_lasso.score(X_test_lasso,y_test))\n",
    "print(\"Model slope:    \", lin_reg_lasso.coef_)\n",
    "print(\"Model intercept:\", lin_reg_lasso.intercept_)"
   ]
  },
  {
   "cell_type": "code",
   "execution_count": 36,
   "metadata": {},
   "outputs": [
    {
     "name": "stdout",
     "output_type": "stream",
     "text": [
      "Validation RMSE for Linear Regression: 74.35191808462486\n",
      "Validation MAE for Linear Regression: 53.34575783885691\n",
      "Validation R2 for Linear Regression: 0.5436628558328367\n"
     ]
    }
   ],
   "source": [
    "final_mse = mean_squared_error(y_test, y_pred)\n",
    "final_rmse = np.sqrt(final_mse)\n",
    "print(\"Validation RMSE for Linear Regression:\", final_rmse)\n",
    "\n",
    "final_mae = mean_absolute_error(y_test, y_pred)\n",
    "print(\"Validation MAE for Linear Regression:\", final_mae)\n",
    "\n",
    "final_r2 = r2_score(y_test, y_pred)\n",
    "print(\"Validation R2 for Linear Regression:\", final_r2)"
   ]
  },
  {
   "cell_type": "code",
   "execution_count": 35,
   "metadata": {},
   "outputs": [
    {
     "name": "stdout",
     "output_type": "stream",
     "text": [
      "score:  0.5411017306804267\n",
      "Model slope:     [ 1.34835978e+14 -2.98598148e+01 -2.27978474e+01  5.76502995e+00\n",
      " -5.82119197e+00 -3.92669006e+00 -4.50307215e+00 -1.48517272e+00\n",
      " -4.32780461e+00 -8.22552231e+00 -1.32539800e+00 -2.34566130e+00\n",
      "  1.34835978e+14  4.09801225e+00 -5.72258854e+00 -2.72540985e+00\n",
      " -1.23148611e+00  6.55485840e-01  1.11770348e-01  1.37287607e+00\n",
      "  1.51786712e-01  5.14119997e+00  3.66200828e+00  3.70192885e+00\n",
      "  4.23497685e+00  5.00707741e+00  2.90542320e+00  4.96019139e+00\n",
      "  3.68378346e+00  5.45676216e+00  9.46495768e+00  5.22098554e+00\n",
      "  9.49141497e+00  1.34835978e+14  1.26193681e+01  3.14817056e+01\n",
      "  1.29553492e+01  2.79584577e+01  3.12450875e+01  3.60901684e+01\n",
      "  1.01087937e+01  1.34835978e+14  6.00961863e+01]\n",
      "Model intercept: -134835977670688.89\n"
     ]
    }
   ],
   "source": [
    "y_pred_base = lin_reg.predict(enc_X_test)\n",
    "print(\"score: \",lin_reg.score(enc_X_test,y_test))\n",
    "print(\"Model slope:    \", lin_reg_lasso.coef_)\n",
    "print(\"Model intercept:\", lin_reg_lasso.intercept_)"
   ]
  },
  {
   "cell_type": "code",
   "execution_count": 37,
   "metadata": {},
   "outputs": [
    {
     "name": "stdout",
     "output_type": "stream",
     "text": [
      "Validation RMSE for Linear Regression: 74.56027076272048\n",
      "Validation MAE for Linear Regression: 53.51391651369319\n",
      "Validation R2 for Linear Regression: 0.5411017306804267\n"
     ]
    }
   ],
   "source": [
    "final_mse_base = mean_squared_error(y_test, y_pred_base)\n",
    "final_rmse_base = np.sqrt(final_mse_base)\n",
    "print(\"Validation RMSE for Linear Regression:\", final_rmse_base)\n",
    "\n",
    "final_mae_base = mean_absolute_error(y_test, y_pred_base)\n",
    "print(\"Validation MAE for Linear Regression:\", final_mae_base)\n",
    "\n",
    "final_r2_base = r2_score(y_test, y_pred_base)\n",
    "print(\"Validation R2 for Linear Regression:\", final_r2_base)"
   ]
  },
  {
   "cell_type": "code",
   "execution_count": null,
   "metadata": {},
   "outputs": [],
   "source": []
  }
 ],
 "metadata": {
  "kernelspec": {
   "display_name": "Python 3",
   "language": "python",
   "name": "python3"
  },
  "language_info": {
   "codemirror_mode": {
    "name": "ipython",
    "version": 3
   },
   "file_extension": ".py",
   "mimetype": "text/x-python",
   "name": "python",
   "nbconvert_exporter": "python",
   "pygments_lexer": "ipython3",
   "version": "3.8.5"
  }
 },
 "nbformat": 4,
 "nbformat_minor": 4
}
