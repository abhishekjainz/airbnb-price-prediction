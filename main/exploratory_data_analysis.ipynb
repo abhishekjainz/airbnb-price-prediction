{
 "cells": [
  {
   "cell_type": "markdown",
   "metadata": {},
   "source": [
    "## Import Packages"
   ]
  },
  {
   "cell_type": "code",
   "execution_count": 1,
   "metadata": {},
   "outputs": [
    {
     "name": "stderr",
     "output_type": "stream",
     "text": [
      "C:\\Users\\jabhi\\anaconda3\\lib\\site-packages\\numpy\\_distributor_init.py:30: UserWarning: loaded more than 1 DLL from .libs:\n",
      "C:\\Users\\jabhi\\anaconda3\\lib\\site-packages\\numpy\\.libs\\libopenblas.FB5AE2TYXYH2IJRDKGDGQ3XBKLKTF43H.gfortran-win_amd64.dll\n",
      "C:\\Users\\jabhi\\anaconda3\\lib\\site-packages\\numpy\\.libs\\libopenblas.NOIJJG62EMASZI6NYURL6JBKM4EVBGM7.gfortran-win_amd64.dll\n",
      "  warnings.warn(\"loaded more than 1 DLL from .libs:\"\n",
      "C:\\Users\\jabhi\\anaconda3\\lib\\site-packages\\pandas\\core\\computation\\expressions.py:20: UserWarning: Pandas requires version '2.7.3' or newer of 'numexpr' (version '2.7.1' currently installed).\n",
      "  from pandas.core.computation.check import NUMEXPR_INSTALLED\n"
     ]
    }
   ],
   "source": [
    "import pandas as pd\n",
    "import numpy as np\n",
    "import seaborn as sns\n",
    "import matplotlib.pyplot as plt\n",
    "import plotly.express as px\n",
    "from pandas.api.types import CategoricalDtype\n",
    "\n",
    "sns.set_theme(font_scale=1.5, style=\"darkgrid\")"
   ]
  },
  {
   "cell_type": "markdown",
   "metadata": {},
   "source": [
    "## Read Data"
   ]
  },
  {
   "cell_type": "code",
   "execution_count": 2,
   "metadata": {},
   "outputs": [
    {
     "data": {
      "text/html": [
       "<div>\n",
       "<style scoped>\n",
       "    .dataframe tbody tr th:only-of-type {\n",
       "        vertical-align: middle;\n",
       "    }\n",
       "\n",
       "    .dataframe tbody tr th {\n",
       "        vertical-align: top;\n",
       "    }\n",
       "\n",
       "    .dataframe thead th {\n",
       "        text-align: right;\n",
       "    }\n",
       "</style>\n",
       "<table border=\"1\" class=\"dataframe\">\n",
       "  <thead>\n",
       "    <tr style=\"text-align: right;\">\n",
       "      <th></th>\n",
       "      <th>id</th>\n",
       "      <th>listing_url</th>\n",
       "      <th>scrape_id</th>\n",
       "      <th>last_scraped</th>\n",
       "      <th>source</th>\n",
       "      <th>name</th>\n",
       "      <th>description</th>\n",
       "      <th>neighborhood_overview</th>\n",
       "      <th>picture_url</th>\n",
       "      <th>host_id</th>\n",
       "      <th>...</th>\n",
       "      <th>review_scores_location</th>\n",
       "      <th>review_scores_value</th>\n",
       "      <th>license</th>\n",
       "      <th>instant_bookable</th>\n",
       "      <th>calculated_host_listings_count</th>\n",
       "      <th>calculated_host_listings_count_entire_homes</th>\n",
       "      <th>calculated_host_listings_count_private_rooms</th>\n",
       "      <th>calculated_host_listings_count_shared_rooms</th>\n",
       "      <th>reviews_per_month</th>\n",
       "      <th>state</th>\n",
       "    </tr>\n",
       "  </thead>\n",
       "  <tbody>\n",
       "    <tr>\n",
       "      <th>0</th>\n",
       "      <td>29967</td>\n",
       "      <td>https://www.airbnb.com/rooms/29967</td>\n",
       "      <td>20220918143850</td>\n",
       "      <td>2022-09-18</td>\n",
       "      <td>city scrape</td>\n",
       "      <td>Great home, 10 min walk to Beach</td>\n",
       "      <td>This 2 bedroom, 2 full bathroom home offers al...</td>\n",
       "      <td>NaN</td>\n",
       "      <td>https://a0.muscache.com/pictures/76103867/c9b5...</td>\n",
       "      <td>129123</td>\n",
       "      <td>...</td>\n",
       "      <td>4.80</td>\n",
       "      <td>4.76</td>\n",
       "      <td>NaN</td>\n",
       "      <td>f</td>\n",
       "      <td>5</td>\n",
       "      <td>5</td>\n",
       "      <td>0</td>\n",
       "      <td>0</td>\n",
       "      <td>0.59</td>\n",
       "      <td>San Diego</td>\n",
       "    </tr>\n",
       "    <tr>\n",
       "      <th>1</th>\n",
       "      <td>38245</td>\n",
       "      <td>https://www.airbnb.com/rooms/38245</td>\n",
       "      <td>20220918143850</td>\n",
       "      <td>2022-09-18</td>\n",
       "      <td>city scrape</td>\n",
       "      <td>Point Loma: Den downstairs</td>\n",
       "      <td>Stay in a 1928 Spanish Style home.  Den is dow...</td>\n",
       "      <td>This neighborhood is an expensive, high-end Po...</td>\n",
       "      <td>https://a0.muscache.com/pictures/f3073822-e493...</td>\n",
       "      <td>164137</td>\n",
       "      <td>...</td>\n",
       "      <td>4.61</td>\n",
       "      <td>4.40</td>\n",
       "      <td>NaN</td>\n",
       "      <td>f</td>\n",
       "      <td>3</td>\n",
       "      <td>0</td>\n",
       "      <td>3</td>\n",
       "      <td>0</td>\n",
       "      <td>1.02</td>\n",
       "      <td>San Diego</td>\n",
       "    </tr>\n",
       "    <tr>\n",
       "      <th>2</th>\n",
       "      <td>108349</td>\n",
       "      <td>https://www.airbnb.com/rooms/108349</td>\n",
       "      <td>20220918143850</td>\n",
       "      <td>2022-09-19</td>\n",
       "      <td>previous scrape</td>\n",
       "      <td>Felspar Townhome- Beach Living by Boardwalk &amp; ...</td>\n",
       "      <td>Find location and privacy in our spacious town...</td>\n",
       "      <td>Pacific Beach is the most fun beach neighborho...</td>\n",
       "      <td>https://a0.muscache.com/pictures/a25c4e97-913d...</td>\n",
       "      <td>546519</td>\n",
       "      <td>...</td>\n",
       "      <td>4.89</td>\n",
       "      <td>4.69</td>\n",
       "      <td>NaN</td>\n",
       "      <td>t</td>\n",
       "      <td>2</td>\n",
       "      <td>2</td>\n",
       "      <td>0</td>\n",
       "      <td>0</td>\n",
       "      <td>1.20</td>\n",
       "      <td>San Diego</td>\n",
       "    </tr>\n",
       "    <tr>\n",
       "      <th>3</th>\n",
       "      <td>126344</td>\n",
       "      <td>https://www.airbnb.com/rooms/126344</td>\n",
       "      <td>20220918143850</td>\n",
       "      <td>2022-09-18</td>\n",
       "      <td>city scrape</td>\n",
       "      <td>Tourmaline House - Steps to Beach, Pet-Friendly</td>\n",
       "      <td>Our stylish beach house in North Pacific Beach...</td>\n",
       "      <td>The house sits just 2 blocks off the beach at ...</td>\n",
       "      <td>https://a0.muscache.com/pictures/55dd5953-67a5...</td>\n",
       "      <td>546519</td>\n",
       "      <td>...</td>\n",
       "      <td>4.78</td>\n",
       "      <td>4.65</td>\n",
       "      <td>NaN</td>\n",
       "      <td>t</td>\n",
       "      <td>2</td>\n",
       "      <td>2</td>\n",
       "      <td>0</td>\n",
       "      <td>0</td>\n",
       "      <td>1.38</td>\n",
       "      <td>San Diego</td>\n",
       "    </tr>\n",
       "    <tr>\n",
       "      <th>4</th>\n",
       "      <td>54001</td>\n",
       "      <td>https://www.airbnb.com/rooms/54001</td>\n",
       "      <td>20220918143850</td>\n",
       "      <td>2022-09-18</td>\n",
       "      <td>city scrape</td>\n",
       "      <td>La Jolla Garden Cottage: Blks to Ocn; 2Bdms, 1...</td>\n",
       "      <td>Quiet, off the beaten path, tranquility abound...</td>\n",
       "      <td>Tranquility, stately trees, meditative, zen-fu...</td>\n",
       "      <td>https://a0.muscache.com/pictures/47035b04-633c...</td>\n",
       "      <td>252692</td>\n",
       "      <td>...</td>\n",
       "      <td>4.97</td>\n",
       "      <td>4.89</td>\n",
       "      <td>NaN</td>\n",
       "      <td>f</td>\n",
       "      <td>2</td>\n",
       "      <td>1</td>\n",
       "      <td>1</td>\n",
       "      <td>0</td>\n",
       "      <td>2.08</td>\n",
       "      <td>San Diego</td>\n",
       "    </tr>\n",
       "  </tbody>\n",
       "</table>\n",
       "<p>5 rows × 76 columns</p>\n",
       "</div>"
      ],
      "text/plain": [
       "       id                          listing_url       scrape_id last_scraped  \\\n",
       "0   29967   https://www.airbnb.com/rooms/29967  20220918143850   2022-09-18   \n",
       "1   38245   https://www.airbnb.com/rooms/38245  20220918143850   2022-09-18   \n",
       "2  108349  https://www.airbnb.com/rooms/108349  20220918143850   2022-09-19   \n",
       "3  126344  https://www.airbnb.com/rooms/126344  20220918143850   2022-09-18   \n",
       "4   54001   https://www.airbnb.com/rooms/54001  20220918143850   2022-09-18   \n",
       "\n",
       "            source                                               name  \\\n",
       "0      city scrape                   Great home, 10 min walk to Beach   \n",
       "1      city scrape                         Point Loma: Den downstairs   \n",
       "2  previous scrape  Felspar Townhome- Beach Living by Boardwalk & ...   \n",
       "3      city scrape    Tourmaline House - Steps to Beach, Pet-Friendly   \n",
       "4      city scrape  La Jolla Garden Cottage: Blks to Ocn; 2Bdms, 1...   \n",
       "\n",
       "                                         description  \\\n",
       "0  This 2 bedroom, 2 full bathroom home offers al...   \n",
       "1  Stay in a 1928 Spanish Style home.  Den is dow...   \n",
       "2  Find location and privacy in our spacious town...   \n",
       "3  Our stylish beach house in North Pacific Beach...   \n",
       "4  Quiet, off the beaten path, tranquility abound...   \n",
       "\n",
       "                               neighborhood_overview  \\\n",
       "0                                                NaN   \n",
       "1  This neighborhood is an expensive, high-end Po...   \n",
       "2  Pacific Beach is the most fun beach neighborho...   \n",
       "3  The house sits just 2 blocks off the beach at ...   \n",
       "4  Tranquility, stately trees, meditative, zen-fu...   \n",
       "\n",
       "                                         picture_url  host_id  ...  \\\n",
       "0  https://a0.muscache.com/pictures/76103867/c9b5...   129123  ...   \n",
       "1  https://a0.muscache.com/pictures/f3073822-e493...   164137  ...   \n",
       "2  https://a0.muscache.com/pictures/a25c4e97-913d...   546519  ...   \n",
       "3  https://a0.muscache.com/pictures/55dd5953-67a5...   546519  ...   \n",
       "4  https://a0.muscache.com/pictures/47035b04-633c...   252692  ...   \n",
       "\n",
       "  review_scores_location review_scores_value license instant_bookable  \\\n",
       "0                   4.80                4.76     NaN                f   \n",
       "1                   4.61                4.40     NaN                f   \n",
       "2                   4.89                4.69     NaN                t   \n",
       "3                   4.78                4.65     NaN                t   \n",
       "4                   4.97                4.89     NaN                f   \n",
       "\n",
       "  calculated_host_listings_count calculated_host_listings_count_entire_homes  \\\n",
       "0                              5                                           5   \n",
       "1                              3                                           0   \n",
       "2                              2                                           2   \n",
       "3                              2                                           2   \n",
       "4                              2                                           1   \n",
       "\n",
       "  calculated_host_listings_count_private_rooms  \\\n",
       "0                                            0   \n",
       "1                                            3   \n",
       "2                                            0   \n",
       "3                                            0   \n",
       "4                                            1   \n",
       "\n",
       "  calculated_host_listings_count_shared_rooms reviews_per_month      state  \n",
       "0                                           0              0.59  San Diego  \n",
       "1                                           0              1.02  San Diego  \n",
       "2                                           0              1.20  San Diego  \n",
       "3                                           0              1.38  San Diego  \n",
       "4                                           0              2.08  San Diego  \n",
       "\n",
       "[5 rows x 76 columns]"
      ]
     },
     "execution_count": 2,
     "metadata": {},
     "output_type": "execute_result"
    }
   ],
   "source": [
    "# Read indivual s\n",
    "sd_listings = pd.read_csv('./Data/Listings/san_diego_listings.csv')\n",
    "oakland_listings = pd.read_csv('./Data/Listings/oakland_listings.csv')\n",
    "la_listings = pd.read_csv('./Data/Listings/los_angeles_listings.csv')\n",
    "sf_listings = pd.read_csv('./Data/Listings/san_francisco_listings.csv')\n",
    "scc_listings = pd.read_csv('./Data/Listings/santa_clara_county_listings.csv')\n",
    "smc_listings = pd.read_csv('./Data/Listings/san_mateo_county_listings.csv')\n",
    "sc_listings = pd.read_csv('./Data/Listings/santa_cruz_county_listings.csv')\n",
    "pg_listings = pd.read_csv('./Data/Listings/pacific_grove_listings.csv')\n",
    "\n",
    "listings = [sd_listings, oakland_listings, la_listings, sf_listings, scc_listings, smc_listings, sc_listings, pg_listings]\n",
    "states = ['San Diego', 'Oakland', 'Los Angeles', 'San Francisco', 'Santa Clara County', 'San Mateo County', 'Santa Cruz County', 'Pacific Grove']\n",
    "\n",
    "for i in range(len(listings)):\n",
    "  listings[i]['state'] = states[i]\n",
    "\n",
    "all_listings = pd.concat(listings, axis=0)\n",
    "all_listings.head()"
   ]
  },
  {
   "cell_type": "markdown",
   "metadata": {},
   "source": [
    "### Drop some columns"
   ]
  },
  {
   "cell_type": "code",
   "execution_count": 3,
   "metadata": {},
   "outputs": [
    {
     "name": "stdout",
     "output_type": "stream",
     "text": [
      "<class 'pandas.core.frame.DataFrame'>\n",
      "Int64Index: 80836 entries, 0 to 321\n",
      "Data columns (total 76 columns):\n",
      " #   Column                                        Non-Null Count  Dtype  \n",
      "---  ------                                        --------------  -----  \n",
      " 0   id                                            80836 non-null  int64  \n",
      " 1   listing_url                                   80836 non-null  object \n",
      " 2   scrape_id                                     80836 non-null  int64  \n",
      " 3   last_scraped                                  80836 non-null  object \n",
      " 4   source                                        69756 non-null  object \n",
      " 5   name                                          80833 non-null  object \n",
      " 6   description                                   79520 non-null  object \n",
      " 7   neighborhood_overview                         50237 non-null  object \n",
      " 8   picture_url                                   80836 non-null  object \n",
      " 9   host_id                                       80836 non-null  int64  \n",
      " 10  host_url                                      80836 non-null  object \n",
      " 11  host_name                                     80731 non-null  object \n",
      " 12  host_since                                    80731 non-null  object \n",
      " 13  host_location                                 68111 non-null  object \n",
      " 14  host_about                                    49612 non-null  object \n",
      " 15  host_response_time                            68292 non-null  object \n",
      " 16  host_response_rate                            68292 non-null  object \n",
      " 17  host_acceptance_rate                          70425 non-null  object \n",
      " 18  host_is_superhost                             80718 non-null  object \n",
      " 19  host_thumbnail_url                            80731 non-null  object \n",
      " 20  host_picture_url                              80731 non-null  object \n",
      " 21  host_neighbourhood                            65782 non-null  object \n",
      " 22  host_listings_count                           80731 non-null  float64\n",
      " 23  host_total_listings_count                     80731 non-null  float64\n",
      " 24  host_verifications                            80836 non-null  object \n",
      " 25  host_has_profile_pic                          80731 non-null  object \n",
      " 26  host_identity_verified                        80731 non-null  object \n",
      " 27  neighbourhood                                 50238 non-null  object \n",
      " 28  neighbourhood_cleansed                        80836 non-null  object \n",
      " 29  neighbourhood_group_cleansed                  37926 non-null  object \n",
      " 30  latitude                                      80836 non-null  float64\n",
      " 31  longitude                                     80836 non-null  float64\n",
      " 32  property_type                                 80836 non-null  object \n",
      " 33  room_type                                     80836 non-null  object \n",
      " 34  accommodates                                  80836 non-null  int64  \n",
      " 35  bathrooms                                     0 non-null      float64\n",
      " 36  bathrooms_text                                80736 non-null  object \n",
      " 37  bedrooms                                      73836 non-null  float64\n",
      " 38  beds                                          79508 non-null  float64\n",
      " 39  amenities                                     80836 non-null  object \n",
      " 40  price                                         80836 non-null  object \n",
      " 41  minimum_nights                                80836 non-null  int64  \n",
      " 42  maximum_nights                                80836 non-null  int64  \n",
      " 43  minimum_minimum_nights                        80824 non-null  float64\n",
      " 44  maximum_minimum_nights                        80824 non-null  float64\n",
      " 45  minimum_maximum_nights                        80824 non-null  float64\n",
      " 46  maximum_maximum_nights                        80824 non-null  float64\n",
      " 47  minimum_nights_avg_ntm                        80824 non-null  float64\n",
      " 48  maximum_nights_avg_ntm                        80824 non-null  float64\n",
      " 49  calendar_updated                              0 non-null      float64\n",
      " 50  has_availability                              80836 non-null  object \n",
      " 51  availability_30                               80836 non-null  int64  \n",
      " 52  availability_60                               80836 non-null  int64  \n",
      " 53  availability_90                               80836 non-null  int64  \n",
      " 54  availability_365                              80836 non-null  int64  \n",
      " 55  calendar_last_scraped                         80836 non-null  object \n",
      " 56  number_of_reviews                             80836 non-null  int64  \n",
      " 57  number_of_reviews_ltm                         80836 non-null  int64  \n",
      " 58  number_of_reviews_l30d                        80836 non-null  int64  \n",
      " 59  first_review                                  65205 non-null  object \n",
      " 60  last_review                                   65205 non-null  object \n",
      " 61  review_scores_rating                          65205 non-null  float64\n",
      " 62  review_scores_accuracy                        64859 non-null  float64\n",
      " 63  review_scores_cleanliness                     64860 non-null  float64\n",
      " 64  review_scores_checkin                         64850 non-null  float64\n",
      " 65  review_scores_communication                   64859 non-null  float64\n",
      " 66  review_scores_location                        64847 non-null  float64\n",
      " 67  review_scores_value                           64846 non-null  float64\n",
      " 68  license                                       16309 non-null  object \n",
      " 69  instant_bookable                              80836 non-null  object \n",
      " 70  calculated_host_listings_count                80836 non-null  int64  \n",
      " 71  calculated_host_listings_count_entire_homes   80836 non-null  int64  \n",
      " 72  calculated_host_listings_count_private_rooms  80836 non-null  int64  \n",
      " 73  calculated_host_listings_count_shared_rooms   80836 non-null  int64  \n",
      " 74  reviews_per_month                             65205 non-null  float64\n",
      " 75  state                                         80836 non-null  object \n",
      "dtypes: float64(22), int64(17), object(37)\n",
      "memory usage: 47.5+ MB\n"
     ]
    }
   ],
   "source": [
    "all_listings.info()"
   ]
  },
  {
   "cell_type": "markdown",
   "metadata": {},
   "source": [
    "With a total of 75 columns, which is too many for a model, we had to remove columns. Initially, we\n",
    "removed those columns which are not useful for predicting price (e.g. url, host-related features that are unrelated to the property, etc)."
   ]
  },
  {
   "cell_type": "code",
   "execution_count": 4,
   "metadata": {},
   "outputs": [],
   "source": [
    "all_listings.drop(['listing_url', 'scrape_id', 'last_scraped', 'source', 'picture_url', 'host_id', \n",
    "               'host_url', 'host_thumbnail_url', 'host_picture_url','calendar_updated', \n",
    "               'calendar_last_scraped', 'calculated_host_listings_count','calculated_host_listings_count_entire_homes', \n",
    "               'calculated_host_listings_count_private_rooms', 'calculated_host_listings_count_shared_rooms',\n",
    "               'host_since','host_location','host_about','host_neighbourhood','host_listings_count',\n",
    "               'host_total_listings_count','host_total_listings_count','host_verifications'], axis=1, inplace=True)"
   ]
  },
  {
   "cell_type": "markdown",
   "metadata": {},
   "source": [
    "#### Remove columns with majority null values"
   ]
  },
  {
   "cell_type": "code",
   "execution_count": 5,
   "metadata": {},
   "outputs": [
    {
     "data": {
      "text/plain": [
       "id                                0.000000\n",
       "name                              0.003711\n",
       "description                       1.627988\n",
       "neighborhood_overview            37.853184\n",
       "host_name                         0.129893\n",
       "host_response_time               15.517839\n",
       "host_response_rate               15.517839\n",
       "host_acceptance_rate             12.879163\n",
       "host_is_superhost                 0.145975\n",
       "host_has_profile_pic              0.129893\n",
       "host_identity_verified            0.129893\n",
       "neighbourhood                    37.851947\n",
       "neighbourhood_cleansed            0.000000\n",
       "neighbourhood_group_cleansed     53.082785\n",
       "latitude                          0.000000\n",
       "longitude                         0.000000\n",
       "property_type                     0.000000\n",
       "room_type                         0.000000\n",
       "accommodates                      0.000000\n",
       "bathrooms                       100.000000\n",
       "bathrooms_text                    0.123707\n",
       "bedrooms                          8.659508\n",
       "beds                              1.642832\n",
       "amenities                         0.000000\n",
       "price                             0.000000\n",
       "minimum_nights                    0.000000\n",
       "maximum_nights                    0.000000\n",
       "minimum_minimum_nights            0.014845\n",
       "maximum_minimum_nights            0.014845\n",
       "minimum_maximum_nights            0.014845\n",
       "maximum_maximum_nights            0.014845\n",
       "minimum_nights_avg_ntm            0.014845\n",
       "maximum_nights_avg_ntm            0.014845\n",
       "has_availability                  0.000000\n",
       "availability_30                   0.000000\n",
       "availability_60                   0.000000\n",
       "availability_90                   0.000000\n",
       "availability_365                  0.000000\n",
       "number_of_reviews                 0.000000\n",
       "number_of_reviews_ltm             0.000000\n",
       "number_of_reviews_l30d            0.000000\n",
       "first_review                     19.336682\n",
       "last_review                      19.336682\n",
       "review_scores_rating             19.336682\n",
       "review_scores_accuracy           19.764709\n",
       "review_scores_cleanliness        19.763472\n",
       "review_scores_checkin            19.775842\n",
       "review_scores_communication      19.764709\n",
       "review_scores_location           19.779554\n",
       "review_scores_value              19.780791\n",
       "license                          79.824583\n",
       "instant_bookable                  0.000000\n",
       "reviews_per_month                19.336682\n",
       "state                             0.000000\n",
       "dtype: float64"
      ]
     },
     "execution_count": 5,
     "metadata": {},
     "output_type": "execute_result"
    }
   ],
   "source": [
    "(all_listings.isna().sum() / all_listings.isna().count()) *100"
   ]
  },
  {
   "cell_type": "markdown",
   "metadata": {},
   "source": [
    "From here, it seems like we can drop neighborhood_overview, neighbourhood, neighbourhood_group_cleansed, bathrooms, license. \n",
    "\n",
    "However, we will keep neighborhood_overview to potentially get it's sentiment value."
   ]
  },
  {
   "cell_type": "code",
   "execution_count": 6,
   "metadata": {},
   "outputs": [
    {
     "data": {
      "text/plain": [
       "Exempt                                                                  1376\n",
       "Exempt - This listing is a transient occupancy residential structure    1091\n",
       "Exempt - This listing is a bed and breakfast                             441\n",
       "License not needed per OSTR                                              350\n",
       "City registration pending                                                269\n",
       "                                                                        ... \n",
       "HSR20-000194                                                               1\n",
       "HSR22-000239                                                               1\n",
       "HSR21-000968                                                               1\n",
       "HSR20-001600                                                               1\n",
       "2022-003192STR                                                             1\n",
       "Name: license, Length: 9301, dtype: int64"
      ]
     },
     "execution_count": 6,
     "metadata": {},
     "output_type": "execute_result"
    }
   ],
   "source": [
    "all_listings['license'].value_counts()"
   ]
  },
  {
   "cell_type": "markdown",
   "metadata": {},
   "source": [
    "It can be that those who have a null value in the license column just don't have a license. Maybe we can try for a boolean category here."
   ]
  },
  {
   "cell_type": "code",
   "execution_count": 7,
   "metadata": {},
   "outputs": [],
   "source": [
    "all_listings['has_license'] = all_listings['license'].notnull()*1\n",
    "all_listings.drop(\"license\", axis = 1, inplace= True)"
   ]
  },
  {
   "cell_type": "markdown",
   "metadata": {},
   "source": [
    "Let's remove the rest"
   ]
  },
  {
   "cell_type": "code",
   "execution_count": 8,
   "metadata": {},
   "outputs": [],
   "source": [
    "all_listings.drop(\"neighbourhood\", axis = 1, inplace= True)\n",
    "all_listings.drop(\"neighbourhood_group_cleansed\", axis = 1, inplace= True)\n",
    "all_listings.drop(\"bathrooms\", axis = 1, inplace= True)"
   ]
  },
  {
   "cell_type": "markdown",
   "metadata": {},
   "source": [
    "Remove columns that have 1 or 0 unique values"
   ]
  },
  {
   "cell_type": "code",
   "execution_count": 9,
   "metadata": {},
   "outputs": [
    {
     "name": "stdout",
     "output_type": "stream",
     "text": [
      "[]\n",
      "(80836, 51)\n"
     ]
    }
   ],
   "source": [
    "# get number of unique values for each column\n",
    "counts = all_listings.nunique()\n",
    "counts_dict = counts.to_dict()\n",
    "\n",
    "# record columns to delete (those that only have 1 or 0 unique values)\n",
    "to_del = [i for i,v in counts_dict.items() if v == 1 or v == 0]\n",
    "print(to_del)\n",
    "\n",
    "# drop those columns\n",
    "all_listings.drop(to_del, axis=1, inplace=True)\n",
    "print(all_listings.shape)"
   ]
  },
  {
   "cell_type": "markdown",
   "metadata": {},
   "source": [
    "There are multiple columns for minimum and maximum night stays which seem to have minimal differences. The default min/max night stay values will be used instead."
   ]
  },
  {
   "cell_type": "code",
   "execution_count": 10,
   "metadata": {},
   "outputs": [],
   "source": [
    "all_listings.drop(['minimum_minimum_nights', 'maximum_minimum_nights', 'minimum_maximum_nights', 'maximum_maximum_nights', 'minimum_nights_avg_ntm', 'maximum_nights_avg_ntm'], axis=1, inplace=True)"
   ]
  },
  {
   "cell_type": "markdown",
   "metadata": {},
   "source": [
    "### Boolean columns"
   ]
  },
  {
   "cell_type": "code",
   "execution_count": 11,
   "metadata": {},
   "outputs": [
    {
     "data": {
      "text/plain": [
       "array([[<AxesSubplot:title={'center':'id'}>,\n",
       "        <AxesSubplot:title={'center':'host_is_superhost'}>,\n",
       "        <AxesSubplot:title={'center':'host_has_profile_pic'}>,\n",
       "        <AxesSubplot:title={'center':'host_identity_verified'}>,\n",
       "        <AxesSubplot:title={'center':'latitude'}>],\n",
       "       [<AxesSubplot:title={'center':'longitude'}>,\n",
       "        <AxesSubplot:title={'center':'accommodates'}>,\n",
       "        <AxesSubplot:title={'center':'bedrooms'}>,\n",
       "        <AxesSubplot:title={'center':'beds'}>,\n",
       "        <AxesSubplot:title={'center':'minimum_nights'}>],\n",
       "       [<AxesSubplot:title={'center':'maximum_nights'}>,\n",
       "        <AxesSubplot:title={'center':'has_availability'}>,\n",
       "        <AxesSubplot:title={'center':'availability_30'}>,\n",
       "        <AxesSubplot:title={'center':'availability_60'}>,\n",
       "        <AxesSubplot:title={'center':'availability_90'}>],\n",
       "       [<AxesSubplot:title={'center':'availability_365'}>,\n",
       "        <AxesSubplot:title={'center':'number_of_reviews'}>,\n",
       "        <AxesSubplot:title={'center':'number_of_reviews_ltm'}>,\n",
       "        <AxesSubplot:title={'center':'number_of_reviews_l30d'}>,\n",
       "        <AxesSubplot:title={'center':'review_scores_rating'}>],\n",
       "       [<AxesSubplot:title={'center':'review_scores_accuracy'}>,\n",
       "        <AxesSubplot:title={'center':'review_scores_cleanliness'}>,\n",
       "        <AxesSubplot:title={'center':'review_scores_checkin'}>,\n",
       "        <AxesSubplot:title={'center':'review_scores_communication'}>,\n",
       "        <AxesSubplot:title={'center':'review_scores_location'}>],\n",
       "       [<AxesSubplot:title={'center':'review_scores_value'}>,\n",
       "        <AxesSubplot:title={'center':'instant_bookable'}>,\n",
       "        <AxesSubplot:title={'center':'reviews_per_month'}>,\n",
       "        <AxesSubplot:title={'center':'has_license'}>, <AxesSubplot:>]],\n",
       "      dtype=object)"
      ]
     },
     "execution_count": 11,
     "metadata": {},
     "output_type": "execute_result"
    },
    {
     "data": {
      "image/png": "[encoded data removed]",
      "text/plain": [
       "<Figure size 1440x1440 with 30 Axes>"
      ]
     },
     "metadata": {},
     "output_type": "display_data"
    }
   ],
   "source": [
    "# Replacing columns with f/t with 0/1\n",
    "all_listings.replace({'f': 0, 't': 1}, inplace=True)\n",
    "\n",
    "# Plotting the distribution of numerical and boolean categories\n",
    "all_listings.hist(figsize=(20,20))"
   ]
  },
  {
   "cell_type": "markdown",
   "metadata": {},
   "source": [
    "Drop those that have mostly just one category"
   ]
  },
  {
   "cell_type": "code",
   "execution_count": 12,
   "metadata": {},
   "outputs": [],
   "source": [
    "all_listings.drop(['has_availability', 'host_has_profile_pic','has_availability'], axis=1, inplace=True)"
   ]
  },
  {
   "cell_type": "markdown",
   "metadata": {},
   "source": [
    "#### Name"
   ]
  },
  {
   "cell_type": "code",
   "execution_count": 13,
   "metadata": {},
   "outputs": [
    {
     "data": {
      "text/plain": [
       "3"
      ]
     },
     "execution_count": 13,
     "metadata": {},
     "output_type": "execute_result"
    }
   ],
   "source": [
    "all_listings['name'].isna().sum()"
   ]
  },
  {
   "cell_type": "markdown",
   "metadata": {},
   "source": [
    "There's only 3 null values, we can just remove those rows."
   ]
  },
  {
   "cell_type": "code",
   "execution_count": 14,
   "metadata": {},
   "outputs": [],
   "source": [
    "all_listings = all_listings[all_listings['name'].notna()]"
   ]
  },
  {
   "cell_type": "markdown",
   "metadata": {},
   "source": [
    "#### host response time"
   ]
  },
  {
   "cell_type": "code",
   "execution_count": 15,
   "metadata": {},
   "outputs": [
    {
     "name": "stdout",
     "output_type": "stream",
     "text": [
      "Null values: 12541\n",
      "Proportion: 15.5%\n"
     ]
    },
    {
     "data": {
      "text/plain": [
       "4237"
      ]
     },
     "execution_count": 15,
     "metadata": {},
     "output_type": "execute_result"
    }
   ],
   "source": [
    "print(\"Null values:\", all_listings.host_response_time.isna().sum())\n",
    "print(f\"Proportion: {round((all_listings.host_response_time.isna().sum()/len(all_listings))*100, 1)}%\")\n",
    "\n",
    "# Number of rows without a value for host_response_time which have also not yet had a review\n",
    "len(all_listings[all_listings.loc[ :,['host_response_time', 'first_review'] ].isnull().sum(axis=1) == 2])"
   ]
  },
  {
   "cell_type": "markdown",
   "metadata": {},
   "source": [
    "We'll fill the NA values wioth its own category"
   ]
  },
  {
   "cell_type": "code",
   "execution_count": 16,
   "metadata": {},
   "outputs": [
    {
     "data": {
      "text/plain": [
       "within an hour        0.643895\n",
       "NA                    0.155147\n",
       "within a few hours    0.128079\n",
       "within a day          0.058380\n",
       "a few days or more    0.014499\n",
       "Name: host_response_time, dtype: float64"
      ]
     },
     "execution_count": 16,
     "metadata": {},
     "output_type": "execute_result"
    }
   ],
   "source": [
    "all_listings.host_response_time.fillna(\"NA\", inplace=True)\n",
    "all_listings.host_response_time.value_counts(normalize=True)"
   ]
  },
  {
   "cell_type": "markdown",
   "metadata": {},
   "source": [
    "#### host response rate"
   ]
  },
  {
   "cell_type": "code",
   "execution_count": 17,
   "metadata": {},
   "outputs": [
    {
     "name": "stdout",
     "output_type": "stream",
     "text": [
      "Null values: 12541\n",
      "Proportion: 15.5%\n"
     ]
    }
   ],
   "source": [
    "print(\"Null values:\", all_listings.host_response_rate.isna().sum())\n",
    "print(f\"Proportion: {round((all_listings.host_response_rate.isna().sum()/len(all_listings))*100, 1)}%\")"
   ]
  },
  {
   "cell_type": "code",
   "execution_count": 18,
   "metadata": {},
   "outputs": [
    {
     "name": "stdout",
     "output_type": "stream",
     "text": [
      "Mean host response rate: 96.0\n",
      "Median host response rate: 100.0\n",
      "Proportion of 100% host response rates: 76.8%\n"
     ]
    }
   ],
   "source": [
    "# Removing the % sign from the host_response_rate string and converting to an integer\n",
    "all_listings.host_response_rate = all_listings.host_response_rate.str[:-1].astype('float')\n",
    "\n",
    "print(\"Mean host response rate:\", round(all_listings['host_response_rate'].mean(),0))\n",
    "print(\"Median host response rate:\", all_listings['host_response_rate'].median())\n",
    "print(f\"Proportion of 100% host response rates: {round(((all_listings.host_response_rate == 100.0).sum()/all_listings.host_response_rate.count())*100,1)}%\")"
   ]
  },
  {
   "cell_type": "code",
   "execution_count": 19,
   "metadata": {},
   "outputs": [],
   "source": [
    "# # Bin into four categories\n",
    "# all_listings.host_response_rate = pd.cut(all_listings.host_response_rate, bins=[0, 50, 90, 99, 100], labels=['0-49%', '50-89%', '90-99%', '100%'], include_lowest=True)\n",
    "\n",
    "# # Converting to string\n",
    "# all_listings.host_response_rate = all_listings.host_response_rate.astype('str')\n",
    "\n",
    "# # Replace nulls with 'unknown'\n",
    "# all_listings.host_response_rate.replace('nan', 'NA', inplace=True)\n",
    "\n",
    "# # Category counts\n",
    "# all_listings.host_response_rate.value_counts()"
   ]
  },
  {
   "cell_type": "code",
   "execution_count": 20,
   "metadata": {},
   "outputs": [
    {
     "data": {
      "text/plain": [
       "100.0    52441\n",
       "90.0      1958\n",
       "98.0      1886\n",
       "99.0      1648\n",
       "97.0      1606\n",
       "         ...  \n",
       "23.0         1\n",
       "24.0         1\n",
       "47.0         1\n",
       "32.0         1\n",
       "42.0         1\n",
       "Name: host_response_rate, Length: 77, dtype: int64"
      ]
     },
     "execution_count": 20,
     "metadata": {},
     "output_type": "execute_result"
    }
   ],
   "source": [
    "all_listings.host_response_rate.value_counts()"
   ]
  },
  {
   "cell_type": "code",
   "execution_count": 21,
   "metadata": {},
   "outputs": [],
   "source": [
    "bins = [0, 50, 70, 80, 90, 95, 101]\n",
    "response_rate_labels = ['unresponsive', 'somewhat unresponsive', 'somewhat responsive', 'responsive', 'very responsive', 'extremely responsive']\n",
    "# acceptance_rate_labels = ['very low', 'low', 'average', 'high', 'very high', 'extremely high']\n",
    "all_listings['host_response_rate'] = pd.cut(all_listings['host_response_rate'], bins=bins, labels=response_rate_labels, right=False)\n",
    "# all_listings['host_acceptance_rate'] = pd.cut(all_listings['host_acceptance_rate'], bins=bins, labels=acceptance_rate_labels, right=False)"
   ]
  },
  {
   "cell_type": "code",
   "execution_count": 22,
   "metadata": {},
   "outputs": [],
   "source": [
    "cat_dtype_response = CategoricalDtype(categories=response_rate_labels+['NA'])\n",
    "# cat_dtype_acceptance = CategoricalDtype(categories=acceptance_rate_labels+['NA'])\n",
    "all_listings['host_response_rate'] = all_listings['host_response_rate'].astype(cat_dtype_response)\n",
    "# all_listings['host_acceptance_rate'] = all_listings['host_acceptance_rate'].astype(cat_dtype_acceptance)\n",
    "all_listings['host_response_rate'] = all_listings['host_response_rate'].fillna('NA')\n",
    "# all_listings['host_acceptance_rate'] = all_listings['host_acceptance_rate'].fillna('NA')"
   ]
  },
  {
   "cell_type": "markdown",
   "metadata": {},
   "source": [
    "#### Property Type"
   ]
  },
  {
   "cell_type": "code",
   "execution_count": 23,
   "metadata": {},
   "outputs": [
    {
     "data": {
      "text/plain": [
       "Entire home                  18609\n",
       "Entire rental unit           17179\n",
       "Private room in home         11015\n",
       "Entire condo                  6343\n",
       "Entire guesthouse             3929\n",
       "                             ...  \n",
       "Private room in island           1\n",
       "Shared room in cabin             1\n",
       "Shared room in aparthotel        1\n",
       "Cave                             1\n",
       "Windmill                         1\n",
       "Name: property_type, Length: 121, dtype: int64"
      ]
     },
     "execution_count": 23,
     "metadata": {},
     "output_type": "execute_result"
    }
   ],
   "source": [
    "all_listings.property_type.value_counts()"
   ]
  },
  {
   "cell_type": "code",
   "execution_count": 24,
   "metadata": {},
   "outputs": [],
   "source": [
    "# Replacing categories that are types of houses or rooms\n",
    "\n",
    "property_categorisation = {\n",
    "    'Entire': 'House',\n",
    "    'Private room': 'Private Room',\n",
    "    'Shared room': 'Shared Room',\n",
    "    'Tiny home': 'House',\n",
    "    'Room': 'Private Room'\n",
    "}\n",
    "\n",
    "def map_property_type(property_type):\n",
    "    for key,value in property_categorisation.items():\n",
    "        if key in property_type:\n",
    "            return value\n",
    "    return 'Others'\n",
    "\n",
    "all_listings['property_type'] = all_listings['property_type'].apply(map_property_type)"
   ]
  },
  {
   "cell_type": "code",
   "execution_count": 25,
   "metadata": {},
   "outputs": [
    {
     "data": {
      "text/plain": [
       "House           57751\n",
       "Private Room    21191\n",
       "Shared Room      1257\n",
       "Others            634\n",
       "Name: property_type, dtype: int64"
      ]
     },
     "execution_count": 25,
     "metadata": {},
     "output_type": "execute_result"
    }
   ],
   "source": [
    "all_listings['property_type'].value_counts()"
   ]
  },
  {
   "cell_type": "markdown",
   "metadata": {},
   "source": [
    "We don't want prices that are NA or have no value, so we'll remove them."
   ]
  },
  {
   "cell_type": "markdown",
   "metadata": {},
   "source": [
    "### Price"
   ]
  },
  {
   "cell_type": "code",
   "execution_count": null,
   "metadata": {},
   "outputs": [],
   "source": [
    "all_listings[\"price\"] = all_listings[\"price\"].str[1:].str.replace(\",\",\"\").astype(\"float\")"
   ]
  },
  {
   "cell_type": "code",
   "execution_count": 29,
   "metadata": {},
   "outputs": [],
   "source": [
    "all_listings = all_listings[all_listings['price'].notna()] \n",
    "all_listings = all_listings[all_listings.price!=0]"
   ]
  },
  {
   "cell_type": "markdown",
   "metadata": {},
   "source": [
    "### Bathrooms"
   ]
  },
  {
   "cell_type": "markdown",
   "metadata": {},
   "source": [
    "It's better to have separate columns for the number of bathrooms and the type of bathroom"
   ]
  },
  {
   "cell_type": "code",
   "execution_count": 33,
   "metadata": {},
   "outputs": [],
   "source": [
    "all_listings[\"bathrooms\"] = all_listings[\"bathrooms_text\"].str.split(\" \", expand=True)[0]\n",
    "all_listings[\"bathroom_type\"] = all_listings[\"bathrooms_text\"].str.split(\" \", expand=True)[1]\n",
    "all_listings.drop(\"bathrooms_text\", axis = 1, inplace= True)"
   ]
  },
  {
   "cell_type": "code",
   "execution_count": 37,
   "metadata": {},
   "outputs": [],
   "source": [
    "all_listings['bathrooms'] = all_listings['bathrooms'].fillna('NA')\n",
    "all_listings['bathroom_type'] = all_listings['bathroom_type'].fillna('NA')"
   ]
  },
  {
   "cell_type": "code",
   "execution_count": 50,
   "metadata": {},
   "outputs": [],
   "source": [
    "mapping = {'Private': '1', 'Shared': '1', 'Half-bath': '1', 'NA': '1'}\n",
    "\n",
    "all_listings = all_listings.replace({'bathrooms': mapping})\n",
    "\n",
    "all_listings['bathrooms'] = all_listings['bathrooms'].astype('str').astype('float')"
   ]
  },
  {
   "cell_type": "markdown",
   "metadata": {},
   "source": [
    "### Bedrooms & Beds"
   ]
  },
  {
   "cell_type": "code",
   "execution_count": 34,
   "metadata": {},
   "outputs": [
    {
     "data": {
      "text/plain": [
       "0.3915257421073288"
      ]
     },
     "execution_count": 34,
     "metadata": {},
     "output_type": "execute_result"
    }
   ],
   "source": [
    "from sklearn.linear_model import LinearRegression\n",
    "from sklearn.metrics import mean_squared_error\n",
    "\n",
    "bedroom_not_na = all_listings[all_listings['bedrooms'].notna()]\n",
    "bedrooms = bedroom_not_na['bedrooms']\n",
    "accommodates = bedroom_not_na[['accommodates']]\n",
    "bedrooms_model = LinearRegression()\n",
    "bedrooms_model.fit(accommodates, bedrooms)\n",
    "bedroom_pred = bedrooms_model.predict(accommodates)\n",
    "mean_squared_error(bedrooms, bedroom_pred)"
   ]
  },
  {
   "cell_type": "code",
   "execution_count": 35,
   "metadata": {},
   "outputs": [
    {
     "data": {
      "text/plain": [
       "0.8658301693377378"
      ]
     },
     "execution_count": 35,
     "metadata": {},
     "output_type": "execute_result"
    }
   ],
   "source": [
    "bed_not_na = all_listings[all_listings['beds'].notna()]\n",
    "beds = bed_not_na['beds']\n",
    "accommodates = bed_not_na[['accommodates']]\n",
    "beds_model = LinearRegression()\n",
    "beds_model.fit(accommodates, beds)\n",
    "bedroom_pred = beds_model.predict(accommodates)\n",
    "mean_squared_error(beds, bedroom_pred)"
   ]
  },
  {
   "cell_type": "code",
   "execution_count": 36,
   "metadata": {},
   "outputs": [],
   "source": [
    "import math\n",
    "import warnings\n",
    "\n",
    "warnings.simplefilter(\"ignore\", UserWarning)\n",
    "for index, row in all_listings.iterrows():\n",
    "  value = row['accommodates']\n",
    "  if math.isnan(row['bedrooms']):\n",
    "    all_listings.at[index, 'bedrooms'] = round(bedrooms_model.predict([[value]])[0])\n",
    "  if math.isnan(row['beds']):\n",
    "    all_listings.at[index, 'beds'] = round(beds_model.predict([[value]])[0])"
   ]
  },
  {
   "cell_type": "markdown",
   "metadata": {},
   "source": [
    "### Amenities"
   ]
  },
  {
   "cell_type": "code",
   "execution_count": 39,
   "metadata": {},
   "outputs": [
    {
     "data": {
      "image/png": "[encoded data removed]",
      "text/plain": [
       "<Figure size 864x432 with 1 Axes>"
      ]
     },
     "metadata": {},
     "output_type": "display_data"
    }
   ],
   "source": [
    "import ast\n",
    "\n",
    "def get_length(text):\n",
    "  amenities_list = ast.literal_eval(text)\n",
    "  return len(amenities_list)\n",
    "\n",
    "all_listings['num_of_amenities'] = all_listings.amenities.apply(get_length)\n",
    "fig, ax = plt.subplots(figsize=(12, 6))\n",
    "hp = sns.histplot(all_listings['num_of_amenities'], bins=25)"
   ]
  },
  {
   "cell_type": "code",
   "execution_count": 40,
   "metadata": {},
   "outputs": [],
   "source": [
    "import ast\n",
    "\n",
    "all_listings.reset_index(inplace=True)\n",
    "amenities_categorisation = {\n",
    "    'essentials': ['soap', 'shampoo', 'towel', 'conditioner', 'toiletries', 'linen', 'water'],\n",
    "    'luxury': ['pool', 'tub', 'park', 'sound', 'wifi'],\n",
    "    'appliances': ['refrigerator', 'stove', 'oven', 'washer', 'dryer', 'microwave'],\n",
    "    'comfort': ['heat', 'air condition'],\n",
    "    'entertainment': ['tv', 'console', 'gym', 'game', 'entertainment'],\n",
    "    'security': ['lock', 'alarm', 'guard'],\n",
    "    'furniture': ['storage', 'chair', 'table', 'bed']\n",
    "}\n",
    "\n",
    "for category in amenities_categorisation.keys():\n",
    "  all_listings[category] = 0\n",
    "all_listings['miscellaneous'] = 0\n",
    "\n",
    "def category_counter(amenity, idx):\n",
    "  for category, category_list in amenities_categorisation.items():\n",
    "    for item in category_list:\n",
    "      if item in amenities.lower():\n",
    "        all_listings.loc[idx, category] += 1\n",
    "        return True\n",
    "  return False\n",
    "\n",
    "unmapped_amenities = []\n",
    "for i in range(all_listings.shape[0]):\n",
    "  amenities_list = ast.literal_eval(all_listings.loc[i, 'amenities'])\n",
    "  for amenities in amenities_list:\n",
    "    mapped = category_counter(amenities, i)\n",
    "    if not mapped:\n",
    "      all_listings.loc[i, 'miscellaneous'] += 1 \n",
    "      if amenities not in unmapped_amenities:\n",
    "        unmapped_amenities.append(amenities)"
   ]
  },
  {
   "cell_type": "markdown",
   "metadata": {},
   "source": [
    "### Availability"
   ]
  },
  {
   "cell_type": "markdown",
   "metadata": {},
   "source": [
    "There are multiple different measures of availability, which will be highly correlated with each other. Only one will be retained - for 30 days."
   ]
  },
  {
   "cell_type": "code",
   "execution_count": 41,
   "metadata": {},
   "outputs": [],
   "source": [
    "all_listings.drop(['availability_60', 'availability_90', 'availability_365'], axis=1, inplace=True)"
   ]
  },
  {
   "cell_type": "markdown",
   "metadata": {},
   "source": [
    "### Gender Split"
   ]
  },
  {
   "cell_type": "code",
   "execution_count": 42,
   "metadata": {},
   "outputs": [],
   "source": [
    "import gender_guesser.detector as gender\n",
    "\n",
    "d = gender.Detector()\n",
    "all_listings['host_gender'] = all_listings['host_name'].apply(lambda x: d.get_gender(x))\n",
    "\n",
    "gender_mapping = {'mostly_female': 'female', 'mostly_male': 'male', 'andy': 'unknown'}\n",
    "\n",
    "all_listings = all_listings.replace({'host_gender': gender_mapping})"
   ]
  },
  {
   "cell_type": "markdown",
   "metadata": {},
   "source": [
    "### Review Scores"
   ]
  },
  {
   "cell_type": "code",
   "execution_count": 43,
   "metadata": {},
   "outputs": [
    {
     "data": {
      "text/plain": [
       "review_scores_rating           15617\n",
       "review_scores_accuracy         15617\n",
       "review_scores_cleanliness      15617\n",
       "review_scores_checkin          15617\n",
       "review_scores_communication    15617\n",
       "review_scores_location         15617\n",
       "review_scores_value            15617\n",
       "reviews_per_month              15617\n",
       "dtype: int64"
      ]
     },
     "execution_count": 43,
     "metadata": {},
     "output_type": "execute_result"
    }
   ],
   "source": [
    "review_missing = all_listings[all_listings['review_scores_rating'].isna()]\n",
    "reviews_columns = ['review_scores_rating', 'review_scores_accuracy', 'review_scores_cleanliness', 'review_scores_checkin', 'review_scores_communication', 'review_scores_location', 'review_scores_value', 'reviews_per_month']\n",
    "review_missing[reviews_columns].isnull().sum()"
   ]
  },
  {
   "cell_type": "code",
   "execution_count": 44,
   "metadata": {},
   "outputs": [],
   "source": [
    "from pandas.api.types import CategoricalDtype\n",
    "\n",
    "# high number of missing values, unfeasible to drop completely. imputation might not be valuable, hence best to encode as missing (logical as a consumer)\n",
    "\n",
    "review_bins = []\n",
    "review_bin_labels = []\n",
    "columns_to_bin = ['review_scores_rating']\n",
    "\n",
    "left, right = 0, 0.1\n",
    "for i in range(50):\n",
    "  review_bins += [left]\n",
    "  label = str(left) + ' to ' + str(right)\n",
    "  review_bin_labels += [label]\n",
    "  left = round(left + 0.1, 1)\n",
    "  right = round(right + 0.1, 1)\n",
    "  if i == 49:\n",
    "    review_bins += [5.1]\n",
    "\n",
    "all_listings['review_scores_rating'] = pd.cut(all_listings['review_scores_rating'], bins=review_bins, labels=review_bin_labels, right=False)\n",
    "\n",
    "all_listings['reviews_per_month'] = all_listings['reviews_per_month'].fillna(value=0)\n",
    "\n",
    "cat_dtype = CategoricalDtype(categories=review_bin_labels+['NA'])\n",
    "all_listings['review_scores_rating'] = all_listings['review_scores_rating'].astype(cat_dtype)\n",
    "all_listings['review_scores_rating'] = all_listings['review_scores_rating'].fillna(value='NA')"
   ]
  },
  {
   "cell_type": "code",
   "execution_count": 47,
   "metadata": {},
   "outputs": [],
   "source": [
    "all_listings.drop(['review_scores_accuracy', 'review_scores_cleanliness', 'review_scores_checkin', 'review_scores_communication', 'review_scores_location', 'review_scores_value'], axis=1, inplace=True)"
   ]
  },
  {
   "cell_type": "markdown",
   "metadata": {},
   "source": [
    "### Description Sentiment"
   ]
  },
  {
   "cell_type": "code",
   "execution_count": 45,
   "metadata": {},
   "outputs": [],
   "source": [
    "from textblob import TextBlob\n",
    "\n",
    "def detect_sentiment(text):\n",
    "  if pd.isnull(text):\n",
    "    return -2\n",
    "  blob = TextBlob(str(text))\n",
    "  return blob.sentiment.polarity\n",
    "\n",
    "all_listings['description_sentiment'] = all_listings.description.apply(detect_sentiment)\n",
    "all_listings['neighborhood_overview_sentiment'] = all_listings.neighborhood_overview.apply(detect_sentiment)\n",
    "\n",
    "bins = [-2, -1, -0.75, -0.5, -0.25, 0.25, 0.5, 0.75, 1.01]\n",
    "labels = ['NA', 'Very Negative', 'Negative', 'Slightly Negative', 'Neutral', 'Slightly Positive', 'Positive', 'Very Positive']\n",
    "\n",
    "all_listings['description_sentiment'] = pd.cut(all_listings['description_sentiment'], bins, labels=labels, right=False)\n",
    "all_listings['neighborhood_overview_sentiment'] = pd.cut(all_listings['neighborhood_overview_sentiment'], bins, labels=labels, right=False)"
   ]
  },
  {
   "cell_type": "markdown",
   "metadata": {},
   "source": [
    "### Final check on columns"
   ]
  },
  {
   "cell_type": "code",
   "execution_count": 58,
   "metadata": {},
   "outputs": [
    {
     "name": "stdout",
     "output_type": "stream",
     "text": [
      "<class 'pandas.core.frame.DataFrame'>\n",
      "RangeIndex: 80809 entries, 0 to 80808\n",
      "Data columns (total 40 columns):\n",
      " #   Column                           Non-Null Count  Dtype   \n",
      "---  ------                           --------------  -----   \n",
      " 0   id                               80809 non-null  int64   \n",
      " 1   name                             80809 non-null  object  \n",
      " 2   description                      79517 non-null  object  \n",
      " 3   neighborhood_overview            50236 non-null  object  \n",
      " 4   host_response_time               80809 non-null  object  \n",
      " 5   host_response_rate               80809 non-null  category\n",
      " 6   host_is_superhost                80710 non-null  float64 \n",
      " 7   host_identity_verified           80704 non-null  float64 \n",
      " 8   neighbourhood_cleansed           80809 non-null  object  \n",
      " 9   latitude                         80809 non-null  float64 \n",
      " 10  longitude                        80809 non-null  float64 \n",
      " 11  property_type                    80809 non-null  object  \n",
      " 12  room_type                        80809 non-null  object  \n",
      " 13  accommodates                     80809 non-null  int64   \n",
      " 14  bedrooms                         80809 non-null  float64 \n",
      " 15  beds                             80809 non-null  float64 \n",
      " 16  amenities                        80809 non-null  object  \n",
      " 17  price                            80809 non-null  float64 \n",
      " 18  minimum_nights                   80809 non-null  int64   \n",
      " 19  maximum_nights                   80809 non-null  int64   \n",
      " 20  availability_30                  80809 non-null  int64   \n",
      " 21  number_of_reviews                80809 non-null  int64   \n",
      " 22  review_scores_rating             80809 non-null  category\n",
      " 23  instant_bookable                 80809 non-null  int64   \n",
      " 24  state                            80809 non-null  object  \n",
      " 25  has_license                      80809 non-null  int32   \n",
      " 26  bathrooms                        80809 non-null  float64 \n",
      " 27  bathroom_type                    80809 non-null  object  \n",
      " 28  num_of_amenities                 80809 non-null  int64   \n",
      " 29  essentials                       80809 non-null  int64   \n",
      " 30  luxury                           80809 non-null  int64   \n",
      " 31  appliances                       80809 non-null  int64   \n",
      " 32  comfort                          80809 non-null  int64   \n",
      " 33  entertainment                    80809 non-null  int64   \n",
      " 34  security                         80809 non-null  int64   \n",
      " 35  furniture                        80809 non-null  int64   \n",
      " 36  miscellaneous                    80809 non-null  int64   \n",
      " 37  host_gender                      80809 non-null  object  \n",
      " 38  description_sentiment            80809 non-null  category\n",
      " 39  neighborhood_overview_sentiment  80809 non-null  category\n",
      "dtypes: category(4), float64(8), int32(1), int64(16), object(11)\n",
      "memory usage: 22.2+ MB\n"
     ]
    }
   ],
   "source": [
    "all_listings.info()"
   ]
  },
  {
   "cell_type": "markdown",
   "metadata": {},
   "source": [
    "Removing columns that are repeated or have been processed"
   ]
  },
  {
   "cell_type": "code",
   "execution_count": 52,
   "metadata": {},
   "outputs": [],
   "source": [
    "all_listings.drop(['reviews_per_month', 'first_review', 'last_review', 'number_of_reviews_ltm', 'number_of_reviews_l30d', 'host_name','index','host_acceptance_rate'], axis=1, inplace=True)"
   ]
  },
  {
   "cell_type": "code",
   "execution_count": 60,
   "metadata": {},
   "outputs": [],
   "source": [
    "all_listings.to_csv('cleaned_full_data.csv')"
   ]
  },
  {
   "cell_type": "code",
   "execution_count": null,
   "metadata": {},
   "outputs": [],
   "source": []
  }
 ],
 "metadata": {
  "kernelspec": {
   "display_name": "Python 3",
   "language": "python",
   "name": "python3"
  },
  "language_info": {
   "codemirror_mode": {
    "name": "ipython",
    "version": 3
   },
   "file_extension": ".py",
   "mimetype": "text/x-python",
   "name": "python",
   "nbconvert_exporter": "python",
   "pygments_lexer": "ipython3",
   "version": "3.8.5"
  }
 },
 "nbformat": 4,
 "nbformat_minor": 4
}
